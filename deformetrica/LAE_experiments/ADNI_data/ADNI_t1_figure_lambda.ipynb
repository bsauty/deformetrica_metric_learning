{
 "cells": [
  {
   "cell_type": "code",
   "execution_count": 9,
   "id": "905763f0",
   "metadata": {},
   "outputs": [],
   "source": [
    "import os\n",
    "import sys\n",
    "module_path = os.path.abspath(os.path.join('../'))\n",
    "if module_path not in sys.path:\n",
    "    sys.path.append(module_path)\n",
    "    \n",
    "os.environ['CUDA_VISIBLE_DEVICES']='1'\n",
    "    \n",
    "import pandas as pd\n",
    "from tqdm import tqdm"
   ]
  },
  {
   "cell_type": "code",
   "execution_count": 17,
   "id": "fcb2f9e2",
   "metadata": {},
   "outputs": [
    {
     "name": "stdout",
     "output_type": "stream",
     "text": [
      "The autoreload extension is already loaded. To reload it, use:\n",
      "  %reload_ext autoreload\n"
     ]
    }
   ],
   "source": [
    "import matplotlib.pyplot as plt\n",
    "import matplotlib\n",
    "\n",
    "import torch\n",
    "import torch.optim as optim\n",
    "import numpy as np\n",
    "\n",
    "%matplotlib inline\n",
    "%load_ext autoreload\n",
    "%autoreload 2\n",
    "\n",
    "device = torch.device(\"cuda:1\" if torch.cuda.is_available() else \"cpu\")"
   ]
  },
  {
   "cell_type": "code",
   "execution_count": 11,
   "id": "5f60b470",
   "metadata": {},
   "outputs": [],
   "source": [
    "data = torch.load('/network/lustre/iss02/aramis/users/benoit.sautydechalon/miccai_2022/ADNI_t1_AD', map_location='cpu')"
   ]
  },
  {
   "cell_type": "markdown",
   "id": "58a54b38",
   "metadata": {
    "tags": []
   },
   "source": [
    "## Load one model"
   ]
  },
  {
   "cell_type": "code",
   "execution_count": 4,
   "id": "215da40c",
   "metadata": {},
   "outputs": [],
   "source": [
    "sys.path.append('/network/lustre/iss02/aramis/users/benoit.sautydechalon/deformetrica_MICCAI')\n",
    "from deformetrica.core.model_tools.neural_networks.networks_LVAE import CVAE_3D, VAE_GAN\n",
    "from deformetrica.support.utilities.general_settings import Settings\n",
    "\n",
    "import deformetrica as dfca\n",
    "from deformetrica.core.models import LongitudinalAutoEncoder\n",
    "from deformetrica.LAE_experiments.fit_longitudinal_auto_encoder import *\n",
    "from deformetrica.support.utilities.general_settings import Settings"
   ]
  },
  {
   "cell_type": "code",
   "execution_count": 5,
   "id": "2dbd5d6e",
   "metadata": {},
   "outputs": [
    {
     "name": "stdout",
     "output_type": "stream",
     "text": [
      "Logger has been set to: NOTSET\n"
     ]
    }
   ],
   "source": [
    "path_CAE = 'output_AD/CVAE_longitudinal'\n",
    "path_model = 'model_MRI.xml'\n",
    "path_data = '/network/lustre/iss02/aramis/users/benoit.sautydechalon/miccai_2022/ADNI_t1_AD'\n",
    "\n",
    "device = torch.device(\"cuda\" if torch.cuda.is_available() else \"cpu\")\n",
    "xml_parameters = dfca.io.XmlParameters()\n",
    "xml_parameters._read_model_xml(path_model)\n",
    "Settings().dimension = 16\n",
    "Settings().number_of_sources = 5\n",
    "Settings().device = device\n",
    "deformetrica = dfca.Deformetrica(output_dir='output', verbosity=logger.level)"
   ]
  },
  {
   "cell_type": "code",
   "execution_count": 6,
   "id": "a56f0188",
   "metadata": {},
   "outputs": [
    {
     "name": "stdout",
     "output_type": "stream",
     "text": [
      "Loaded 3585 train images and 100 test images\n",
      ">> Loaded CAE network from output_AD/CVAE_longitudinal\n",
      "Model has a total of 11535009 parameters\n",
      ">> Reading 5-source initial modulation matrix from file: output_AD/LongitudinalMetricModel_modulation_matrix.txt\n",
      "Setting initial onset ages from output_AD/LongitudinalMetricModel_onset_ages.txt file\n",
      "Setting initial log accelerations from output_AD/LongitudinalMetricModel_log_accelerations.txt file\n",
      "Initialized the Euclidean metric for latent space\n",
      "Setting the Euclidean exponential dimension to 16 from the settings\n",
      "Setting the Euclidean exponential dimension to 16 from the settings\n",
      "Setting the Euclidean exponential dimension to 16 from the settings\n",
      "Setting initial sources from output_AD/LongitudinalMetricModel_sources.txt file\n",
      ">> The time shift variance prior degrees of freedom parameter is set to 784\n",
      ">> The log-acceleration variance prior degrees of freedom parameter is set to the number of subjects: 784\n",
      "('v0', False)\n",
      "('p0', False)\n",
      "('reference_time', False)\n",
      "('onset_age_variance', False)\n",
      "('log_acceleration_variance', False)\n",
      "('noise_variance', False)\n",
      "('modulation_matrix', False)\n"
     ]
    }
   ],
   "source": [
    "#torch_data = torch.load(path_data)\n",
    "image_data = Dataset(data['data'].unsqueeze(1).float(), data['labels'], data['timepoints'])\n",
    "number_of_subjects = len(np.unique(image_data.labels))\n",
    "\n",
    "model, dataset, individual_RER = instantiate_longitudinal_auto_encoder_model(logger, path_data, path_CAE=path_CAE,\n",
    "                                                                    number_of_subjects=number_of_subjects, xml_parameters=xml_parameters)"
   ]
  },
  {
   "cell_type": "markdown",
   "id": "ada09aa9-8596-45d8-bafd-49fb9c4cc89a",
   "metadata": {},
   "source": [
    "## Then compare for different values of lambda"
   ]
  },
  {
   "cell_type": "code",
   "execution_count": 18,
   "id": "2e755cfe-375b-496b-8cf7-2c1afb776329",
   "metadata": {},
   "outputs": [],
   "source": [
    "# Load the VAEs and compute their output\n",
    "torch.cuda.empty_cache()\n",
    "\n",
    "VAEs = ['../CVAE_longitudinal_0', '../CVAE_longitudinal_500', '../CVAE_longitudinal_1500', '../CVAE_longitudinal_2000']\n",
    "outputs = []\n",
    "train_L2, test_L2 = [], []\n",
    "\n",
    "for path in VAEs:\n",
    "    vae = CVAE_3D()\n",
    "    vae.load_state_dict(torch.load(path))\n",
    "    vae.to(device)\n",
    "    vae.eval() \n",
    "    with torch.no_grad():\n",
    "        outputs.append(vae(data['data'][:37].unsqueeze(1).to(device))[0].cpu().detach().numpy())\n",
    "        test = model.train_images[:50].to(device)\n",
    "        reconstructed = vae(test)[2]\n",
    "        train_L2.append((((test - reconstructed)**2).sum()/test.shape[0]).cpu())\n",
    "        test = model.test_images[:50].to(device)\n",
    "        reconstructed = vae(test)[2]\n",
    "        test_L2.append((((test - reconstructed)**2).sum()/test.shape[0]).cpu())"
   ]
  },
  {
   "cell_type": "code",
   "execution_count": 19,
   "id": "beb1bfd6-7570-4e6c-8130-ab559f035087",
   "metadata": {
    "scrolled": true,
    "tags": []
   },
   "outputs": [],
   "source": [
    "# First with the trained longitudinal model\n",
    "\n",
    "z = model.full_encoded[:37]\n",
    "labels = model.full_labels[:37]\n",
    "\n",
    "already_seen = []\n",
    "alpha = []\n",
    "for i in range(len(labels)):\n",
    "    if labels[i] not in already_seen:\n",
    "        alpha.append(1)\n",
    "        already_seen.append(labels[i])\n",
    "    else:\n",
    "        alpha.append(alpha[-1] * .85)"
   ]
  },
  {
   "cell_type": "code",
   "execution_count": 41,
   "id": "d89a5b28-a16f-47b5-9e24-63eee0b66694",
   "metadata": {},
   "outputs": [
    {
     "data": {
      "image/png": "[encoded data removed]",
      "text/plain": [
       "<Figure size 720x720 with 4 Axes>"
      ]
     },
     "metadata": {
      "needs_background": "light"
     },
     "output_type": "display_data"
    }
   ],
   "source": [
    "import matplotlib.pyplot as plt\n",
    "\n",
    "plt.rcParams.update({\n",
    "    'text.usetex': True,\n",
    "    'font.family': 'Computer Modern',\n",
    "    'font.size':20,\n",
    "})\n",
    "\n",
    "fig, axes = plt.subplots(2, 2, figsize=(10,10))\n",
    "\n",
    "titles = ['$\\lambda = 0$', '$\\lambda = 500$', '$\\lambda = 1000$', '$\\lambda = 1500$']\n",
    "limits = [1, .8, .3, .3]\n",
    "\n",
    "for i in range(len(outputs)):\n",
    "    axes[i//2][i%2].scatter(outputs[i][:,0], outputs[i][:,1], c=labels, alpha=alpha)\n",
    "    axes[i//2][i%2].title.set_text(titles[i])\n",
    "    axes[i//2][i%2].set_xlim([-limits[i],limits[i]])\n",
    "    axes[i//2][i%2].set_ylim([-limits[i],limits[i]])\n",
    "\n",
    "plt.savefig('lambda_plots.png', dpi=300, bbox_inches='tight')\n",
    "plt.show()"
   ]
  },
  {
   "cell_type": "code",
   "execution_count": 40,
   "id": "4e967485-9c71-4cd0-9f77-b4cfe8a47ca9",
   "metadata": {},
   "outputs": [
    {
     "data": {
      "image/png": "[encoded data removed]",
      "text/plain": [
       "<Figure size 432x288 with 1 Axes>"
      ]
     },
     "metadata": {
      "needs_background": "light"
     },
     "output_type": "display_data"
    }
   ],
   "source": [
    "fig = plt.figure(figsize=(6,4))\n",
    "                 \n",
    "plt.plot([0,500,1000,1500], train_L2, label='train error')\n",
    "plt.plot([0,500,1000,1500], test_L2, label='test error')\n",
    "plt.xlabel('$\\lambda$')\n",
    "plt.legend()\n",
    "plt.savefig('lambda_errors.png', dpi=300, bbox_inches='tight')\n",
    "plt.show()"
   ]
  },
  {
   "cell_type": "code",
   "execution_count": 23,
   "id": "64dd243a",
   "metadata": {},
   "outputs": [
    {
     "name": "stdout",
     "output_type": "stream",
     "text": [
      "Average reconstruction L2 is 13554.392578125\n",
      "Mean mutual information is 0.6828406806143871\n"
     ]
    }
   ],
   "source": [
    "torch.cuda.empty_cache()\n",
    "model.CAE.training = False\n",
    "\n",
    "model.CAE.to(device)\n",
    "test = model.train_images[:50].to(device)\n",
    "\n",
    "with torch.no_grad():\n",
    "    reconstructed = model.CAE(test)[2]\n",
    "\n",
    "print(f\"Average reconstruction L2 is {((test - reconstructed)**2).sum()/test.shape[0]}\")\n",
    "print(f\"Mean mutual information is {mutual_information(test.cpu(), reconstructed.cpu())}\")"
   ]
  },
  {
   "cell_type": "code",
   "execution_count": 24,
   "id": "cce5b9e5",
   "metadata": {},
   "outputs": [
    {
     "name": "stdout",
     "output_type": "stream",
     "text": [
      "Average reconstruction L2 is 14730.3349609375\n",
      "Mean mutual information is 0.5578475197217326\n"
     ]
    }
   ],
   "source": [
    "model.CAE.to(device)\n",
    "test = model.test_images[:50].to(device)\n",
    "\n",
    "with torch.no_grad():\n",
    "    reconstructed = model.CAE(test)[2]\n",
    "\n",
    "print(f\"Average reconstruction L2 is {((test - reconstructed)**2).sum()/test.shape[0]}\")\n",
    "print(f\"Mean mutual information is {mutual_information(test.cpu(), reconstructed.cpu())}\")"
   ]
  },
  {
   "cell_type": "code",
   "execution_count": null,
   "id": "c1b9d69d",
   "metadata": {},
   "outputs": [],
   "source": []
  },
  {
   "cell_type": "code",
   "execution_count": null,
   "id": "1e1996c8-436e-473a-bdc2-9547cf2e75fa",
   "metadata": {},
   "outputs": [],
   "source": []
  },
  {
   "cell_type": "code",
   "execution_count": null,
   "id": "e4f56b51-6ebd-4921-b010-3e8a0c448064",
   "metadata": {},
   "outputs": [],
   "source": []
  },
  {
   "cell_type": "code",
   "execution_count": null,
   "id": "96bcc1e2-d86e-4b6e-b82c-94a9ac9d7629",
   "metadata": {},
   "outputs": [],
   "source": []
  },
  {
   "cell_type": "code",
   "execution_count": null,
   "id": "9fcf91db-d768-4310-b87e-c4a4c0c62fab",
   "metadata": {},
   "outputs": [],
   "source": []
  },
  {
   "cell_type": "code",
   "execution_count": null,
   "id": "0445c5f1-9603-45cd-be7e-0393480afcc9",
   "metadata": {},
   "outputs": [],
   "source": []
  }
 ],
 "metadata": {
  "kernelspec": {
   "display_name": "deformetrica",
   "language": "python",
   "name": "deformetrica"
  },
  "language_info": {
   "codemirror_mode": {
    "name": "ipython",
    "version": 3
   },
   "file_extension": ".py",
   "mimetype": "text/x-python",
   "name": "python",
   "nbconvert_exporter": "python",
   "pygments_lexer": "ipython3",
   "version": "3.8.8"
  }
 },
 "nbformat": 4,
 "nbformat_minor": 5
}
