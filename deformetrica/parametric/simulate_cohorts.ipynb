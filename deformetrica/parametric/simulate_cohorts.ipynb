{
 "cells": [
  {
   "cell_type": "code",
   "execution_count": 2,
   "metadata": {},
   "outputs": [],
   "source": [
    "import torch\n",
    "import os, sys\n",
    "import pandas as pd\n",
    "import numpy as np\n",
    "import matplotlib.pyplot as plt\n",
    "import matplotlib\n",
    "\n",
    "import warnings\n",
    "warnings.filterwarnings(\"ignore\")\n",
    "\n",
    "%load_ext autoreload\n",
    "%autoreload 2"
   ]
  },
  {
   "cell_type": "code",
   "execution_count": null,
   "metadata": {},
   "outputs": [],
   "source": []
  },
  {
   "cell_type": "markdown",
   "metadata": {},
   "source": [
    "## Individual parameters"
   ]
  },
  {
   "cell_type": "code",
   "execution_count": 75,
   "metadata": {},
   "outputs": [
    {
     "data": {
      "text/html": [
       "<div>\n",
       "<style scoped>\n",
       "    .dataframe tbody tr th:only-of-type {\n",
       "        vertical-align: middle;\n",
       "    }\n",
       "\n",
       "    .dataframe tbody tr th {\n",
       "        vertical-align: top;\n",
       "    }\n",
       "\n",
       "    .dataframe thead th {\n",
       "        text-align: right;\n",
       "    }\n",
       "</style>\n",
       "<table border=\"1\" class=\"dataframe\">\n",
       "  <thead>\n",
       "    <tr style=\"text-align: right;\">\n",
       "      <th></th>\n",
       "      <th>xi</th>\n",
       "      <th>tau</th>\n",
       "      <th>source</th>\n",
       "    </tr>\n",
       "  </thead>\n",
       "  <tbody>\n",
       "    <tr>\n",
       "      <th>0</th>\n",
       "      <td>-0.692980</td>\n",
       "      <td>102.873124</td>\n",
       "      <td>-6.612634</td>\n",
       "    </tr>\n",
       "    <tr>\n",
       "      <th>1</th>\n",
       "      <td>-0.106132</td>\n",
       "      <td>83.123088</td>\n",
       "      <td>-18.134419</td>\n",
       "    </tr>\n",
       "    <tr>\n",
       "      <th>2</th>\n",
       "      <td>0.154129</td>\n",
       "      <td>87.899298</td>\n",
       "      <td>0.005569</td>\n",
       "    </tr>\n",
       "    <tr>\n",
       "      <th>3</th>\n",
       "      <td>-0.218066</td>\n",
       "      <td>70.157167</td>\n",
       "      <td>-4.220802</td>\n",
       "    </tr>\n",
       "    <tr>\n",
       "      <th>4</th>\n",
       "      <td>-0.402675</td>\n",
       "      <td>69.448463</td>\n",
       "      <td>-5.494417</td>\n",
       "    </tr>\n",
       "  </tbody>\n",
       "</table>\n",
       "</div>"
      ],
      "text/plain": [
       "         xi         tau     source\n",
       "0 -0.692980  102.873124  -6.612634\n",
       "1 -0.106132   83.123088 -18.134419\n",
       "2  0.154129   87.899298   0.005569\n",
       "3 -0.218066   70.157167  -4.220802\n",
       "4 -0.402675   69.448463  -5.494417"
      ]
     },
     "execution_count": 75,
     "metadata": {},
     "output_type": "execute_result"
    }
   ],
   "source": [
    "# generation of the individual parameters\n",
    "\n",
    "n_patients = 300\n",
    "\n",
    "# individual_parameters\n",
    "xi_mean = 0\n",
    "sigma_xi = 0.5\n",
    "tau_mean = 70\n",
    "sigma_tau = 12\n",
    "sources_std = 10\n",
    "\n",
    "columns = ['xi', 'tau', 'source']\n",
    "feature_parameters = pd.DataFrame(columns=columns)\n",
    "\n",
    "for i in range(n_patients):\n",
    "    xi = np.random.normal(xi_mean, sigma_xi)\n",
    "    tau = np.random.normal(tau_mean, sigma_tau)\n",
    "    source = np.random.normal(0,sources_std)\n",
    "    feature_parameters.loc[i] = [xi, tau, source]\n",
    "    \n",
    "feature_parameters.head()"
   ]
  },
  {
   "cell_type": "code",
   "execution_count": 76,
   "metadata": {},
   "outputs": [
    {
     "data": {
      "text/html": [
       "<div>\n",
       "<style scoped>\n",
       "    .dataframe tbody tr th:only-of-type {\n",
       "        vertical-align: middle;\n",
       "    }\n",
       "\n",
       "    .dataframe tbody tr th {\n",
       "        vertical-align: top;\n",
       "    }\n",
       "\n",
       "    .dataframe thead th {\n",
       "        text-align: right;\n",
       "    }\n",
       "</style>\n",
       "<table border=\"1\" class=\"dataframe\">\n",
       "  <thead>\n",
       "    <tr style=\"text-align: right;\">\n",
       "      <th></th>\n",
       "      <th>xi</th>\n",
       "      <th>tau</th>\n",
       "      <th>source</th>\n",
       "    </tr>\n",
       "  </thead>\n",
       "  <tbody>\n",
       "    <tr>\n",
       "      <th>mean</th>\n",
       "      <td>-0.031255</td>\n",
       "      <td>70.399823</td>\n",
       "      <td>-0.094449</td>\n",
       "    </tr>\n",
       "    <tr>\n",
       "      <th>std</th>\n",
       "      <td>0.495057</td>\n",
       "      <td>12.121842</td>\n",
       "      <td>10.436583</td>\n",
       "    </tr>\n",
       "    <tr>\n",
       "      <th>min</th>\n",
       "      <td>-1.776552</td>\n",
       "      <td>36.464122</td>\n",
       "      <td>-26.429986</td>\n",
       "    </tr>\n",
       "    <tr>\n",
       "      <th>25%</th>\n",
       "      <td>-0.359276</td>\n",
       "      <td>61.631818</td>\n",
       "      <td>-7.768740</td>\n",
       "    </tr>\n",
       "    <tr>\n",
       "      <th>50%</th>\n",
       "      <td>-0.052229</td>\n",
       "      <td>70.553563</td>\n",
       "      <td>0.030651</td>\n",
       "    </tr>\n",
       "    <tr>\n",
       "      <th>75%</th>\n",
       "      <td>0.279481</td>\n",
       "      <td>79.266656</td>\n",
       "      <td>6.779289</td>\n",
       "    </tr>\n",
       "    <tr>\n",
       "      <th>max</th>\n",
       "      <td>1.290700</td>\n",
       "      <td>102.873124</td>\n",
       "      <td>24.728552</td>\n",
       "    </tr>\n",
       "  </tbody>\n",
       "</table>\n",
       "</div>"
      ],
      "text/plain": [
       "            xi         tau     source\n",
       "mean -0.031255   70.399823  -0.094449\n",
       "std   0.495057   12.121842  10.436583\n",
       "min  -1.776552   36.464122 -26.429986\n",
       "25%  -0.359276   61.631818  -7.768740\n",
       "50%  -0.052229   70.553563   0.030651\n",
       "75%   0.279481   79.266656   6.779289\n",
       "max   1.290700  102.873124  24.728552"
      ]
     },
     "execution_count": 76,
     "metadata": {},
     "output_type": "execute_result"
    }
   ],
   "source": [
    "feature_parameters.describe().drop('count')"
   ]
  },
  {
   "cell_type": "markdown",
   "metadata": {},
   "source": [
    "# Simulation with closed form geodesics"
   ]
  },
  {
   "cell_type": "code",
   "execution_count": 77,
   "metadata": {},
   "outputs": [],
   "source": [
    "# logistic sampler from individidual parameters\n",
    "\n",
    "def logistic(timepoints, acceleration, timeshift, a=0, b=1, spaceshift=None, noise=None):\n",
    "    \"\"\"\n",
    "    - timepoints : real ages of patients at which we want the visits\n",
    "    - acceleration : feature wise acceleration factor\n",
    "    - timeshift : feature wise timeshift (point at which the logistic curves hits a fixed value across features)\n",
    "    - a,b : first asymptote and second asymptote. By default features go from 0 to 1\n",
    "    \"\"\"\n",
    "    L = np.exp(acceleration)/14*(timepoints - timeshift)\n",
    "    if noise is not None:\n",
    "        L = L+noise\n",
    "    if spaceshift is not None:\n",
    "        return a + (b-a)/(1+np.exp(-L + spaceshift/20)) \n",
    "    return a + (b-a)/(1+np.exp(-L))\n",
    "\n",
    "def sum_logistic(timepoints, acceleration, timeshift, a=0, b=1, spaceshift=None):\n",
    "    \"\"\"\n",
    "    - timepoints : real ages of patients at which we want the visits\n",
    "    - acceleration : feature wise acceleration factor\n",
    "    - timeshift : feature wise timeshift (point at which the logistic curves hits a fixed value across features)\n",
    "    - a,b : first asymptote and second asymptote. By default features go from 0 to 1\n",
    "    \"\"\"\n",
    "    Lp = np.exp(acceleration)/3*(np.array(timepoints) - np.array(timeshift)) + 4\n",
    "    Lm = np.exp(acceleration)/3*(np.array(timepoints) - np.array(timeshift)) - 4\n",
    "    if spaceshift is not None:\n",
    "        return a + (b-a)/(1+np.exp(-Lp + spaceshift/3))/2 + (b-a)/(1+np.exp(-Lm + spaceshift/3))/2\n",
    "    return  a + (b-a)/(1+np.exp(-Lp))/2 + (b-a)/(1+np.exp(-Lm))/2\n",
    "\n",
    "def linear(timepoints, acceleration, timeshift, a=0, b=1, spaceshift=None):\n",
    "    \"\"\"\n",
    "    - timepoints : real ages of patients at which we want the visits\n",
    "    - acceleration : feature wise acceleration factor\n",
    "    - timeshift : feature wise timeshift (point at which the logistic curves hits a fixed value across features)\n",
    "    - a,b : first 'asymptote' and second 'asymptote'. By default features go from 0 to 1\n",
    "    \"\"\"\n",
    "    m = (b-a)/80\n",
    "    if spaceshift is not None:\n",
    "        return a + (b-a)/2 + m*np.exp(acceleration)*(timepoints-timeshift) + m*spaceshift\n",
    "    return a + (b-a)/2 + m*np.exp(acceleration)*(timepoints-timeshift)"
   ]
  },
  {
   "cell_type": "code",
   "execution_count": 54,
   "metadata": {},
   "outputs": [
    {
     "data": {
      "text/plain": [
       "[<matplotlib.lines.Line2D at 0x7fd5eaf89910>]"
      ]
     },
     "execution_count": 54,
     "metadata": {},
     "output_type": "execute_result"
    },
    {
     "data": {
      "image/png": "[encoded data removed]",
      "text/plain": [
       "<Figure size 432x288 with 1 Axes>"
      ]
     },
     "metadata": {
      "needs_background": "light"
     },
     "output_type": "display_data"
    }
   ],
   "source": [
    "t = np.arange(50,60,0.5)\n",
    "p1 = logistic(t, 0, 70, 0.2, 0.8, spaceshift=0)\n",
    "p2 = sum_logistic(t, 0, 70, 0.4, 1, spaceshift=0) \n",
    "\n",
    "plt.plot(t,p1,c='b')\n",
    "plt.plot(t,p2,c='g')"
   ]
  },
  {
   "cell_type": "code",
   "execution_count": 55,
   "metadata": {},
   "outputs": [
    {
     "name": "stderr",
     "output_type": "stream",
     "text": [
      "No handles with labels found to put in legend.\n"
     ]
    },
    {
     "data": {
      "image/png": "[encoded data removed]",
      "text/plain": [
       "<Figure size 432x288 with 1 Axes>"
      ]
     },
     "metadata": {
      "needs_background": "light"
     },
     "output_type": "display_data"
    }
   ],
   "source": [
    "t = np.arange(45,100,1)\n",
    "\n",
    "#t = np.array([50,50.5,51,52,53])\n",
    "p1 = logistic(t, 0.3, 70, 0.2, 0.8, spaceshift=0)\n",
    "p2 = sum_logistic(t, 0, 70, 0.4, 1, spaceshift=0) \n",
    "p3 = linear(t, 0, 70, 0.4, 0.9, spaceshift=0)\n",
    "p1_source_neg = logistic(t, 0, 70, 0.2, 0.8, 8)\n",
    "p2_source_neg = sum_logistic(t, 0, 70, 0.3, 1, -8) \n",
    "p3_source_neg = linear(t, 0, 70, 0.4, 0.9, -8)\n",
    "p1_source_pos = logistic(t, 0, 70, 0.2, 0.8, -8)\n",
    "p2_source_pos = sum_logistic(t, 0, 70, 0.3, 1, 8) \n",
    "p3_source_pos = linear(t, 0, 70, 0.4, 0.9, 8)\n",
    "\n",
    "plt.plot(t,p1,c='b')\n",
    "plt.plot(t,p2,c='g')\n",
    "\n",
    "\"\"\"\n",
    "plt.plot(t,p3,c='r')\n",
    "plt.plot(t,p1_source_pos)\n",
    "plt.plot(t,p1_source_neg)\n",
    "plt.plot(t,p3_source_pos)\n",
    "plt.plot(t,p3_source_neg)\n",
    "\"\"\"\n",
    "plt.legend()\n",
    "plt.show()\n"
   ]
  },
  {
   "cell_type": "code",
   "execution_count": 15,
   "metadata": {},
   "outputs": [
    {
     "data": {
      "text/plain": [
       "[<matplotlib.lines.Line2D at 0x7f10b5b52910>]"
      ]
     },
     "execution_count": 15,
     "metadata": {},
     "output_type": "execute_result"
    },
    {
     "data": {
      "image/png": "[encoded data removed]",
      "text/plain": [
       "<Figure size 432x288 with 1 Axes>"
      ]
     },
     "metadata": {
      "needs_background": "light"
     },
     "output_type": "display_data"
    }
   ],
   "source": [
    "plt.plot(p1,p2)\n",
    "plt.plot(p1_source_neg,p2_source_neg)\n",
    "plt.plot(p1_source_pos,p2_source_pos)"
   ]
  },
  {
   "cell_type": "code",
   "execution_count": 78,
   "metadata": {},
   "outputs": [],
   "source": [
    "# generate the associated trajectories \n",
    "\n",
    "visits_per_patients = 8\n",
    "time_between_visits = 0.5\n",
    "columns = ['feat1', 'feat2']\n",
    "\n",
    "noise_std = 0.02\n",
    "\n",
    "data = []\n",
    "for sub in feature_parameters.index:\n",
    "    id_params = feature_parameters.loc[sub]\n",
    "    time_first_visit = np.random.normal(loc=70, scale=10)\n",
    "    timepoints = [time_first_visit + i*time_between_visits for i in range(visits_per_patients)]\n",
    "    feature_1 = logistic(np.array(timepoints), id_params[0], id_params[1], a=0.2, b=0.8, spaceshift=-id_params[2]/2) + np.random.normal(0, noise_std, visits_per_patients)\n",
    "    feature_2 = sum_logistic(np.array(timepoints), id_params[0], id_params[1], a=0.4, b=1, spaceshift=id_params[2]/2)+ np.random.normal(0, noise_std, visits_per_patients)\n",
    "    #feature_2 = linear(np.array(timepoints), id_params[0], id_params[1], a=0.4, b=0.9, spaceshift=id_params[2]/2)+ np.random.normal(0, noise_std, visits_per_patients)\n",
    "\n",
    "    sub_data = pd.DataFrame([timepoints,feature_1, feature_2]).T\n",
    "    sub_data.columns = ['TIME', 'feat1', 'feat2']\n",
    "    sub_data['ID'] = sub\n",
    "    sub_data = sub_data.set_index(['ID'])\n",
    "    \n",
    "    data.append(sub_data)\n",
    "    \n",
    "data = pd.concat(data)"
   ]
  },
  {
   "cell_type": "code",
   "execution_count": 79,
   "metadata": {},
   "outputs": [],
   "source": [
    "# Histogram of reparametrized ages\n",
    "\n",
    "ages = []\n",
    "for sub in data.index.unique():\n",
    "    ip = feature_parameters.loc[sub]\n",
    "    timepoints = data.loc[sub]['TIME']\n",
    "    ages += list((np.exp(ip['xi'])*(timepoints - ip['tau']) + 70).values)\n",
    "    "
   ]
  },
  {
   "cell_type": "code",
   "execution_count": 80,
   "metadata": {},
   "outputs": [
    {
     "data": {
      "text/plain": [
       "(array([  3.,   2.,   3.,   0.,   1.,   7.,   9.,  13.,   8.,   2.,   5.,\n",
       "         23.,  45.,  57.,  55.,  81., 111., 125., 185., 195., 220., 161.,\n",
       "        225., 210., 108., 156.,  84.,  53.,  55.,  50.,  39.,  26.,  20.,\n",
       "         22.,  11.,   6.,   5.,   6.,   7.,   6.]),\n",
       " array([-1.08420983e-01,  3.25127720e+00,  6.61097539e+00,  9.97067358e+00,\n",
       "         1.33303718e+01,  1.66900700e+01,  2.00497681e+01,  2.34094663e+01,\n",
       "         2.67691645e+01,  3.01288627e+01,  3.34885609e+01,  3.68482591e+01,\n",
       "         4.02079573e+01,  4.35676555e+01,  4.69273536e+01,  5.02870518e+01,\n",
       "         5.36467500e+01,  5.70064482e+01,  6.03661464e+01,  6.37258446e+01,\n",
       "         6.70855428e+01,  7.04452410e+01,  7.38049391e+01,  7.71646373e+01,\n",
       "         8.05243355e+01,  8.38840337e+01,  8.72437319e+01,  9.06034301e+01,\n",
       "         9.39631283e+01,  9.73228265e+01,  1.00682525e+02,  1.04042223e+02,\n",
       "         1.07401921e+02,  1.10761619e+02,  1.14121317e+02,  1.17481016e+02,\n",
       "         1.20840714e+02,  1.24200412e+02,  1.27560110e+02,  1.30919808e+02,\n",
       "         1.34279507e+02]),\n",
       " <BarContainer object of 40 artists>)"
      ]
     },
     "execution_count": 80,
     "metadata": {},
     "output_type": "execute_result"
    },
    {
     "data": {
      "image/png": "[encoded data removed]",
      "text/plain": [
       "<Figure size 432x288 with 1 Axes>"
      ]
     },
     "metadata": {
      "needs_background": "light"
     },
     "output_type": "display_data"
    }
   ],
   "source": [
    "plt.hist(ages, bins=40)"
   ]
  },
  {
   "cell_type": "code",
   "execution_count": 81,
   "metadata": {},
   "outputs": [
    {
     "data": {
      "text/plain": [
       "<matplotlib.collections.PathCollection at 0x7fd5eac141c0>"
      ]
     },
     "execution_count": 81,
     "metadata": {},
     "output_type": "execute_result"
    },
    {
     "data": {
      "image/png": "[encoded data removed]",
      "text/plain": [
       "<Figure size 432x288 with 1 Axes>"
      ]
     },
     "metadata": {
      "needs_background": "light"
     },
     "output_type": "display_data"
    }
   ],
   "source": [
    "plt.scatter(data['feat1'], data['feat2'])"
   ]
  },
  {
   "cell_type": "code",
   "execution_count": 66,
   "metadata": {},
   "outputs": [
    {
     "data": {
      "text/html": [
       "<div>\n",
       "<style scoped>\n",
       "    .dataframe tbody tr th:only-of-type {\n",
       "        vertical-align: middle;\n",
       "    }\n",
       "\n",
       "    .dataframe tbody tr th {\n",
       "        vertical-align: top;\n",
       "    }\n",
       "\n",
       "    .dataframe thead th {\n",
       "        text-align: right;\n",
       "    }\n",
       "</style>\n",
       "<table border=\"1\" class=\"dataframe\">\n",
       "  <thead>\n",
       "    <tr style=\"text-align: right;\">\n",
       "      <th></th>\n",
       "      <th>TIME</th>\n",
       "      <th>feat1</th>\n",
       "      <th>feat2</th>\n",
       "    </tr>\n",
       "  </thead>\n",
       "  <tbody>\n",
       "    <tr>\n",
       "      <th>count</th>\n",
       "      <td>3200.000000</td>\n",
       "      <td>3200.000000</td>\n",
       "      <td>3200.000000</td>\n",
       "    </tr>\n",
       "    <tr>\n",
       "      <th>mean</th>\n",
       "      <td>71.826074</td>\n",
       "      <td>0.514624</td>\n",
       "      <td>0.716598</td>\n",
       "    </tr>\n",
       "    <tr>\n",
       "      <th>std</th>\n",
       "      <td>10.878439</td>\n",
       "      <td>0.155165</td>\n",
       "      <td>0.194385</td>\n",
       "    </tr>\n",
       "    <tr>\n",
       "      <th>min</th>\n",
       "      <td>33.158610</td>\n",
       "      <td>0.170978</td>\n",
       "      <td>0.343383</td>\n",
       "    </tr>\n",
       "    <tr>\n",
       "      <th>10%</th>\n",
       "      <td>57.238331</td>\n",
       "      <td>0.294557</td>\n",
       "      <td>0.412109</td>\n",
       "    </tr>\n",
       "    <tr>\n",
       "      <th>20%</th>\n",
       "      <td>62.310205</td>\n",
       "      <td>0.363093</td>\n",
       "      <td>0.529192</td>\n",
       "    </tr>\n",
       "    <tr>\n",
       "      <th>50%</th>\n",
       "      <td>72.588681</td>\n",
       "      <td>0.517996</td>\n",
       "      <td>0.709280</td>\n",
       "    </tr>\n",
       "    <tr>\n",
       "      <th>80%</th>\n",
       "      <td>80.661584</td>\n",
       "      <td>0.659160</td>\n",
       "      <td>0.953621</td>\n",
       "    </tr>\n",
       "    <tr>\n",
       "      <th>95%</th>\n",
       "      <td>89.681767</td>\n",
       "      <td>0.767097</td>\n",
       "      <td>1.009338</td>\n",
       "    </tr>\n",
       "    <tr>\n",
       "      <th>max</th>\n",
       "      <td>103.359220</td>\n",
       "      <td>0.844186</td>\n",
       "      <td>1.053083</td>\n",
       "    </tr>\n",
       "  </tbody>\n",
       "</table>\n",
       "</div>"
      ],
      "text/plain": [
       "              TIME        feat1        feat2\n",
       "count  3200.000000  3200.000000  3200.000000\n",
       "mean     71.826074     0.514624     0.716598\n",
       "std      10.878439     0.155165     0.194385\n",
       "min      33.158610     0.170978     0.343383\n",
       "10%      57.238331     0.294557     0.412109\n",
       "20%      62.310205     0.363093     0.529192\n",
       "50%      72.588681     0.517996     0.709280\n",
       "80%      80.661584     0.659160     0.953621\n",
       "95%      89.681767     0.767097     1.009338\n",
       "max     103.359220     0.844186     1.053083"
      ]
     },
     "execution_count": 66,
     "metadata": {},
     "output_type": "execute_result"
    }
   ],
   "source": [
    "data.describe(percentiles=[.1,.2,.8,.95])"
   ]
  },
  {
   "cell_type": "code",
   "execution_count": null,
   "metadata": {},
   "outputs": [],
   "source": [
    "data"
   ]
  },
  {
   "cell_type": "code",
   "execution_count": 82,
   "metadata": {},
   "outputs": [],
   "source": [
    "data_path = 'simulated_study/simulated_data_1/'\n",
    "data.to_csv(data_path + 'simulated_data_test.csv')\n",
    "feature_parameters.to_csv(data_path + 'true_individual_parameters.csv')"
   ]
  },
  {
   "cell_type": "markdown",
   "metadata": {},
   "source": [
    "## Save the data "
   ]
  },
  {
   "cell_type": "code",
   "execution_count": 83,
   "metadata": {},
   "outputs": [],
   "source": [
    "X = data['TIME'].values\n",
    "Y = data[['feat1', 'feat2']].values\n",
    "group = [int(sub) for sub in data.index.values]"
   ]
  },
  {
   "cell_type": "code",
   "execution_count": 84,
   "metadata": {},
   "outputs": [],
   "source": [
    "np.savetxt(data_path + 'X.csv', X)\n",
    "np.savetxt(data_path + 'Y.csv', Y, delimiter=',')\n",
    "np.savetxt(data_path + 'group.csv', group)"
   ]
  },
  {
   "cell_type": "code",
   "execution_count": 25,
   "metadata": {},
   "outputs": [
    {
     "data": {
      "text/html": [
       "<div>\n",
       "<style scoped>\n",
       "    .dataframe tbody tr th:only-of-type {\n",
       "        vertical-align: middle;\n",
       "    }\n",
       "\n",
       "    .dataframe tbody tr th {\n",
       "        vertical-align: top;\n",
       "    }\n",
       "\n",
       "    .dataframe thead th {\n",
       "        text-align: right;\n",
       "    }\n",
       "</style>\n",
       "<table border=\"1\" class=\"dataframe\">\n",
       "  <thead>\n",
       "    <tr style=\"text-align: right;\">\n",
       "      <th></th>\n",
       "      <th>TIME</th>\n",
       "      <th>feat1</th>\n",
       "      <th>feat2</th>\n",
       "    </tr>\n",
       "  </thead>\n",
       "  <tbody>\n",
       "    <tr>\n",
       "      <th>count</th>\n",
       "      <td>1800.000000</td>\n",
       "      <td>1800.000000</td>\n",
       "      <td>1800.000000</td>\n",
       "    </tr>\n",
       "    <tr>\n",
       "      <th>mean</th>\n",
       "      <td>76.303536</td>\n",
       "      <td>0.568025</td>\n",
       "      <td>0.725008</td>\n",
       "    </tr>\n",
       "    <tr>\n",
       "      <th>std</th>\n",
       "      <td>15.990967</td>\n",
       "      <td>0.133968</td>\n",
       "      <td>0.167139</td>\n",
       "    </tr>\n",
       "    <tr>\n",
       "      <th>min</th>\n",
       "      <td>32.112238</td>\n",
       "      <td>0.176869</td>\n",
       "      <td>0.268439</td>\n",
       "    </tr>\n",
       "    <tr>\n",
       "      <th>10%</th>\n",
       "      <td>55.493920</td>\n",
       "      <td>0.376076</td>\n",
       "      <td>0.564416</td>\n",
       "    </tr>\n",
       "    <tr>\n",
       "      <th>20%</th>\n",
       "      <td>64.032295</td>\n",
       "      <td>0.462833</td>\n",
       "      <td>0.627668</td>\n",
       "    </tr>\n",
       "    <tr>\n",
       "      <th>30%</th>\n",
       "      <td>68.394799</td>\n",
       "      <td>0.510303</td>\n",
       "      <td>0.649337</td>\n",
       "    </tr>\n",
       "    <tr>\n",
       "      <th>50%</th>\n",
       "      <td>76.157909</td>\n",
       "      <td>0.579065</td>\n",
       "      <td>0.686779</td>\n",
       "    </tr>\n",
       "    <tr>\n",
       "      <th>70%</th>\n",
       "      <td>84.474855</td>\n",
       "      <td>0.653867</td>\n",
       "      <td>0.801910</td>\n",
       "    </tr>\n",
       "    <tr>\n",
       "      <th>80%</th>\n",
       "      <td>88.643203</td>\n",
       "      <td>0.690594</td>\n",
       "      <td>0.908268</td>\n",
       "    </tr>\n",
       "    <tr>\n",
       "      <th>90%</th>\n",
       "      <td>97.944159</td>\n",
       "      <td>0.730739</td>\n",
       "      <td>0.973600</td>\n",
       "    </tr>\n",
       "    <tr>\n",
       "      <th>95%</th>\n",
       "      <td>105.492087</td>\n",
       "      <td>0.761314</td>\n",
       "      <td>0.995222</td>\n",
       "    </tr>\n",
       "    <tr>\n",
       "      <th>max</th>\n",
       "      <td>117.330764</td>\n",
       "      <td>0.838847</td>\n",
       "      <td>1.055170</td>\n",
       "    </tr>\n",
       "  </tbody>\n",
       "</table>\n",
       "</div>"
      ],
      "text/plain": [
       "              TIME        feat1        feat2\n",
       "count  1800.000000  1800.000000  1800.000000\n",
       "mean     76.303536     0.568025     0.725008\n",
       "std      15.990967     0.133968     0.167139\n",
       "min      32.112238     0.176869     0.268439\n",
       "10%      55.493920     0.376076     0.564416\n",
       "20%      64.032295     0.462833     0.627668\n",
       "30%      68.394799     0.510303     0.649337\n",
       "50%      76.157909     0.579065     0.686779\n",
       "70%      84.474855     0.653867     0.801910\n",
       "80%      88.643203     0.690594     0.908268\n",
       "90%      97.944159     0.730739     0.973600\n",
       "95%     105.492087     0.761314     0.995222\n",
       "max     117.330764     0.838847     1.055170"
      ]
     },
     "execution_count": 25,
     "metadata": {},
     "output_type": "execute_result"
    }
   ],
   "source": [
    "data.describe(percentiles=[.1,.2,.3,.5,.7,.8,.9, .95])"
   ]
  },
  {
   "cell_type": "code",
   "execution_count": null,
   "metadata": {},
   "outputs": [],
   "source": []
  },
  {
   "cell_type": "code",
   "execution_count": null,
   "metadata": {},
   "outputs": [],
   "source": []
  },
  {
   "cell_type": "markdown",
   "metadata": {},
   "source": [
    "# Simulating with a metric"
   ]
  },
  {
   "cell_type": "code",
   "execution_count": 1,
   "metadata": {},
   "outputs": [
    {
     "name": "stdout",
     "output_type": "stream",
     "text": [
      "[pyKeOps]: Warning, cuda was detected, but driver API could not be initialized. Switching to cpu only.\n"
     ]
    }
   ],
   "source": [
    "import numpy as np\n",
    "import pandas as pd\n",
    "import torch\n",
    "import sys\n",
    "from matplotlib import pyplot as plt\n",
    "%matplotlib inline\n",
    "\n",
    "sys.path.append('/home/benoit.sautydechalon/deformetrica')\n",
    "\n",
    "from deformetrica.core.estimator_tools.samplers.srw_mhwg_sampler import SrwMhwgSampler\n",
    "from deformetrica.core.estimators.gradient_ascent import GradientAscent\n",
    "from deformetrica.core.estimators.mcmc_saem import McmcSaem\n",
    "# Estimators\n",
    "from deformetrica.core.estimators.scipy_optimize import ScipyOptimize\n",
    "from deformetrica.core.model_tools.manifolds.exponential_factory import ExponentialFactory\n",
    "from deformetrica.core.model_tools.manifolds.generic_spatiotemporal_reference_frame import GenericSpatiotemporalReferenceFrame\n",
    "from deformetrica.core.models.longitudinal_metric_learning import LongitudinalMetricLearning\n",
    "from deformetrica.core.models.model_functions import create_regular_grid_of_points\n",
    "from deformetrica.in_out.array_readers_and_writers import read_2D_array\n",
    "from deformetrica.in_out.dataset_functions import read_and_create_scalar_dataset, read_and_create_image_dataset\n",
    "from deformetrica.support.probability_distributions.multi_scalar_normal_distribution import MultiScalarNormalDistribution\n",
    "from deformetrica.support.utilities.general_settings import Settings\n",
    "from deformetrica import estimate_longitudinal_metric_model\n",
    "from deformetrica.in_out.array_readers_and_writers import *\n",
    "from deformetrica.launch.estimate_longitudinal_metric_model import instantiate_longitudinal_metric_model\n",
    "import deformetrica as dfca"
   ]
  },
  {
   "cell_type": "code",
   "execution_count": 3,
   "metadata": {},
   "outputs": [],
   "source": [
    "path = 'simulated_study'\n",
    "args = {'verbosity':'INFO', 'output':'personalize',onn\n",
    "        'model':path+'/model_7.xml', 'dataset':path+'/data_set.xml', 'parameters':path+'/optimization_parameters_saem.xml'}\n",
    "\n",
    "\n",
    "\"\"\"\n",
    "Read xml files, set general settings, and call the adapted function.\n",
    "\"\"\"\n",
    "\n",
    "xml_parameters = dfca.io.XmlParameters()\n",
    "xml_parameters.read_all_xmls(args['model'],\n",
    "                             args['dataset'],\n",
    "                             args['parameters'])\n",
    "\n",
    "logger = logging.getLogger(__name__)\n",
    "logging.getLogger('matplotlib').setLevel(logging.ERROR)\n",
    "logger.setLevel(logging.INFO)"
   ]
  },
  {
   "cell_type": "code",
   "execution_count": 4,
   "metadata": {
    "scrolled": true
   },
   "outputs": [],
   "source": [
    "dataset = read_and_create_scalar_dataset(xml_parameters)\n",
    "model, individual_RER = instantiate_longitudinal_metric_model(xml_parameters, logger, dataset, observation_type='scalar')"
   ]
  },
  {
   "cell_type": "code",
   "execution_count": 8,
   "metadata": {},
   "outputs": [],
   "source": [
    "onset_ages = torch.tensor(feature_parameters['tau'])\n",
    "log_accelerations = torch.tensor(feature_parameters['xi'])\n",
    "sources = torch.tensor([[float(source)] for source in feature_parameters['source'].values])"
   ]
  },
  {
   "cell_type": "code",
   "execution_count": 9,
   "metadata": {},
   "outputs": [],
   "source": [
    "# Timepoints of visits\n",
    "\n",
    "visits_per_patients = 12\n",
    "time_between_visits = 0.5\n",
    "\n",
    "noise_std = 0.02\n",
    "\n",
    "timepoints_lst = []\n",
    "timepoints = []\n",
    "\n",
    "for sub in feature_parameters.index:\n",
    "    time_first_visit = np.random.normal(loc=0, scale=10)\n",
    "    timepoints_lst = timepoints_lst + [time_first_visit + feature_parameters.loc[sub]['tau'] + i*time_between_visits for i in range(visits_per_patients)]\n",
    "    timepoints.append([time_first_visit + feature_parameters.loc[sub]['tau'] + i*time_between_visits for i in range(visits_per_patients)])"
   ]
  },
  {
   "cell_type": "code",
   "execution_count": 10,
   "metadata": {},
   "outputs": [
    {
     "name": "stdout",
     "output_type": "stream",
     "text": [
      "Patient  132  was estimated with an absurd timeshift tensor(158.3860)\n",
      "150 good iterations out of 151\n",
      "196 good iterations out of 211\n"
     ]
    }
   ],
   "source": [
    "v0, p0, metric_parameters, modulation_matrix = model._fixed_effects_to_torch_tensors(False)\n",
    "#onset_ages, log_accelerations, sources = model._individual_RER_to_torch_tensors(individual_RER, False)\n",
    "t0 = model.get_reference_time()\n",
    "\n",
    "absolute_times = model._compute_absolute_times(np.array(timepoints), log_accelerations, onset_ages)\n",
    "\n",
    "absolute_times_to_write = []\n",
    "for elt in absolute_times:\n",
    "    for e in elt.cpu().data.numpy():\n",
    "        absolute_times_to_write.append(e)\n",
    "\n",
    "#np.savetxt(os.path.join(Settings().output_dir, \"LongitudinalMetricModel_absolute_times.txt\"), np.array(absolute_times_to_write))\n",
    "\n",
    "model._update_spatiotemporal_reference_frame(absolute_times, p0, v0, metric_parameters,\n",
    "                                            modulation_matrix)"
   ]
  },
  {
   "cell_type": "code",
   "execution_count": 11,
   "metadata": {
    "scrolled": true
   },
   "outputs": [],
   "source": [
    "predictions = []\n",
    "subject_ids = []\n",
    "times = []\n",
    "\n",
    "targets = dataset.deformable_objects\n",
    "\n",
    "number_of_subjects = dataset.number_of_subjects\n",
    "residuals = []\n",
    "\n",
    "for i in range(number_of_subjects):\n",
    "    predictions_i = []\n",
    "    for j, t in enumerate(absolute_times[i]):\n",
    "        if sources is not None:\n",
    "            prediction = model.spatiotemporal_reference_frame.get_position(t, sources=sources[i])\n",
    "        else:\n",
    "            prediction = model.spatiotemporal_reference_frame.get_position(t)\n",
    "        predictions_i.append(prediction.cpu().data.numpy())\n",
    "        predictions.append(prediction.cpu().data.numpy())\n",
    "        subject_ids.append(dataset.subject_ids[i])\n",
    "        times.append(dataset.times[i][j])\n",
    "    targets_i = targets[i].cpu().data.numpy()\n"
   ]
  },
  {
   "cell_type": "code",
   "execution_count": 12,
   "metadata": {
    "scrolled": true
   },
   "outputs": [],
   "source": [
    "feat_1 = [prediction[0] for prediction in predictions]\n",
    "feat_2 = [prediction[1] for prediction in predictions]"
   ]
  },
  {
   "cell_type": "code",
   "execution_count": 13,
   "metadata": {},
   "outputs": [],
   "source": [
    "data_path = 'simulated_study/simulated_data_metric_5/'\n",
    "feature_parameters.to_csv(data_path + 'true_individual_parameters.csv')"
   ]
  },
  {
   "cell_type": "markdown",
   "metadata": {},
   "source": [
    "## Save the data "
   ]
  },
  {
   "cell_type": "code",
   "execution_count": 19,
   "metadata": {},
   "outputs": [],
   "source": [
    "X = np.array(timepoints_lst)\n",
    "Y = predictions\n",
    "group = []\n",
    "for i in range(len(timepoints)):\n",
    "    group = group + [i for j in range(12)]"
   ]
  },
  {
   "cell_type": "code",
   "execution_count": 20,
   "metadata": {},
   "outputs": [],
   "source": [
    "data_path = 'simulated_study/simulated_data_metric_5/'"
   ]
  },
  {
   "cell_type": "code",
   "execution_count": 21,
   "metadata": {},
   "outputs": [],
   "source": [
    "np.savetxt(data_path + 'X.csv', X)\n",
    "np.savetxt(data_path + 'Y.csv', Y, delimiter=',')\n",
    "np.savetxt(data_path + 'group.csv', group)"
   ]
  },
  {
   "cell_type": "markdown",
   "metadata": {},
   "source": [
    "## Add the noise"
   ]
  },
  {
   "cell_type": "code",
   "execution_count": 3,
   "metadata": {},
   "outputs": [],
   "source": [
    "data_path = 'simulated_study/simulated_data_test/'"
   ]
  },
  {
   "cell_type": "code",
   "execution_count": 4,
   "metadata": {},
   "outputs": [],
   "source": [
    "data = pd.read_csv(data_path + 'Y.csv', header=None)"
   ]
  },
  {
   "cell_type": "code",
   "execution_count": 32,
   "metadata": {},
   "outputs": [],
   "source": [
    "noise_std = 0.025\n",
    "\n",
    "data_noisy = data + np.random.normal(0, noise_std, data.shape)"
   ]
  },
  {
   "cell_type": "code",
   "execution_count": 33,
   "metadata": {},
   "outputs": [],
   "source": [
    "data_path = 'simulated_study/simulated_data_1/'\n",
    "np.savetxt(data_path + 'Y.csv', data_noisy.values, delimiter=',')"
   ]
  },
  {
   "cell_type": "code",
   "execution_count": 35,
   "metadata": {},
   "outputs": [
    {
     "data": {
      "text/plain": [
       "<matplotlib.collections.PathCollection at 0x7fd5eb233370>"
      ]
     },
     "execution_count": 35,
     "metadata": {},
     "output_type": "execute_result"
    },
    {
     "data": {
      "image/png": "[encoded data removed]",
      "text/plain": [
       "<Figure size 432x288 with 1 Axes>"
      ]
     },
     "metadata": {
      "needs_background": "light"
     },
     "output_type": "display_data"
    }
   ],
   "source": [
    "plt.scatter(data_noisy['feat1'], data_noisy['feat2'])"
   ]
  },
  {
   "cell_type": "code",
   "execution_count": null,
   "metadata": {},
   "outputs": [],
   "source": []
  }
 ],
 "metadata": {
  "kernelspec": {
   "display_name": "deformetrica",
   "language": "python",
   "name": "deformetrica"
  },
  "language_info": {
   "codemirror_mode": {
    "name": "ipython",
    "version": 3
   },
   "file_extension": ".py",
   "mimetype": "text/x-python",
   "name": "python",
   "nbconvert_exporter": "python",
   "pygments_lexer": "ipython3",
   "version": "3.8.8"
  }
 },
 "nbformat": 4,
 "nbformat_minor": 4
}
