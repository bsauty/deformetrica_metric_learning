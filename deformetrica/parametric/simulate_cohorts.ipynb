{
 "cells": [
  {
   "cell_type": "code",
   "execution_count": 1,
   "metadata": {},
   "outputs": [],
   "source": [
    "import torch\n",
    "import os, sys\n",
    "import pandas as pd\n",
    "import numpy as np\n",
    "import matplotlib.pyplot as plt\n",
    "import matplotlib\n",
    "\n",
    "import warnings\n",
    "warnings.filterwarnings(\"ignore\")\n",
    "\n",
    "%load_ext autoreload\n",
    "%autoreload 2"
   ]
  },
  {
   "cell_type": "code",
   "execution_count": null,
   "metadata": {},
   "outputs": [],
   "source": []
  },
  {
   "cell_type": "markdown",
   "metadata": {},
   "source": [
    "## Individual parameters"
   ]
  },
  {
   "cell_type": "code",
   "execution_count": 121,
   "metadata": {},
   "outputs": [
    {
     "data": {
      "text/html": [
       "<div>\n",
       "<style scoped>\n",
       "    .dataframe tbody tr th:only-of-type {\n",
       "        vertical-align: middle;\n",
       "    }\n",
       "\n",
       "    .dataframe tbody tr th {\n",
       "        vertical-align: top;\n",
       "    }\n",
       "\n",
       "    .dataframe thead th {\n",
       "        text-align: right;\n",
       "    }\n",
       "</style>\n",
       "<table border=\"1\" class=\"dataframe\">\n",
       "  <thead>\n",
       "    <tr style=\"text-align: right;\">\n",
       "      <th></th>\n",
       "      <th>xi</th>\n",
       "      <th>tau</th>\n",
       "      <th>source</th>\n",
       "    </tr>\n",
       "  </thead>\n",
       "  <tbody>\n",
       "    <tr>\n",
       "      <th>0</th>\n",
       "      <td>0.323061</td>\n",
       "      <td>71.140287</td>\n",
       "      <td>-0.360633</td>\n",
       "    </tr>\n",
       "    <tr>\n",
       "      <th>1</th>\n",
       "      <td>0.193569</td>\n",
       "      <td>77.673505</td>\n",
       "      <td>1.318288</td>\n",
       "    </tr>\n",
       "    <tr>\n",
       "      <th>2</th>\n",
       "      <td>-0.400661</td>\n",
       "      <td>67.379055</td>\n",
       "      <td>-0.586314</td>\n",
       "    </tr>\n",
       "    <tr>\n",
       "      <th>3</th>\n",
       "      <td>0.380403</td>\n",
       "      <td>65.124340</td>\n",
       "      <td>-0.874428</td>\n",
       "    </tr>\n",
       "    <tr>\n",
       "      <th>4</th>\n",
       "      <td>-0.908135</td>\n",
       "      <td>77.568310</td>\n",
       "      <td>0.953517</td>\n",
       "    </tr>\n",
       "  </tbody>\n",
       "</table>\n",
       "</div>"
      ],
      "text/plain": [
       "         xi        tau    source\n",
       "0  0.323061  71.140287 -0.360633\n",
       "1  0.193569  77.673505  1.318288\n",
       "2 -0.400661  67.379055 -0.586314\n",
       "3  0.380403  65.124340 -0.874428\n",
       "4 -0.908135  77.568310  0.953517"
      ]
     },
     "execution_count": 121,
     "metadata": {},
     "output_type": "execute_result"
    }
   ],
   "source": [
    "# generation of the individual parameters\n",
    "\n",
    "n_patients = 200\n",
    "\n",
    "# individual_parameters\n",
    "xi_mean = 0\n",
    "sigma_xi = 0.5\n",
    "tau_mean = 70\n",
    "sigma_tau = 12\n",
    "sources_std = 1\n",
    "\n",
    "columns = ['xi', 'tau', 'source']\n",
    "feature_parameters = pd.DataFrame(columns=columns)\n",
    "\n",
    "for i in range(n_patients):\n",
    "    xi = np.random.normal(xi_mean, sigma_xi)\n",
    "    tau = np.random.normal(tau_mean, sigma_tau)\n",
    "    source = np.random.normal(0,sources_std)\n",
    "    feature_parameters.loc[i] = [xi, tau, source]\n",
    "    \n",
    "feature_parameters.head()"
   ]
  },
  {
   "cell_type": "code",
   "execution_count": 122,
   "metadata": {},
   "outputs": [
    {
     "data": {
      "text/html": [
       "<div>\n",
       "<style scoped>\n",
       "    .dataframe tbody tr th:only-of-type {\n",
       "        vertical-align: middle;\n",
       "    }\n",
       "\n",
       "    .dataframe tbody tr th {\n",
       "        vertical-align: top;\n",
       "    }\n",
       "\n",
       "    .dataframe thead th {\n",
       "        text-align: right;\n",
       "    }\n",
       "</style>\n",
       "<table border=\"1\" class=\"dataframe\">\n",
       "  <thead>\n",
       "    <tr style=\"text-align: right;\">\n",
       "      <th></th>\n",
       "      <th>xi</th>\n",
       "      <th>tau</th>\n",
       "      <th>source</th>\n",
       "    </tr>\n",
       "  </thead>\n",
       "  <tbody>\n",
       "    <tr>\n",
       "      <th>mean</th>\n",
       "      <td>-0.063630</td>\n",
       "      <td>70.932252</td>\n",
       "      <td>0.086420</td>\n",
       "    </tr>\n",
       "    <tr>\n",
       "      <th>std</th>\n",
       "      <td>0.507911</td>\n",
       "      <td>13.116245</td>\n",
       "      <td>0.934589</td>\n",
       "    </tr>\n",
       "    <tr>\n",
       "      <th>min</th>\n",
       "      <td>-1.829130</td>\n",
       "      <td>39.263627</td>\n",
       "      <td>-2.700146</td>\n",
       "    </tr>\n",
       "    <tr>\n",
       "      <th>25%</th>\n",
       "      <td>-0.392495</td>\n",
       "      <td>61.698817</td>\n",
       "      <td>-0.573860</td>\n",
       "    </tr>\n",
       "    <tr>\n",
       "      <th>50%</th>\n",
       "      <td>-0.100073</td>\n",
       "      <td>70.715856</td>\n",
       "      <td>0.068347</td>\n",
       "    </tr>\n",
       "    <tr>\n",
       "      <th>75%</th>\n",
       "      <td>0.223220</td>\n",
       "      <td>78.771765</td>\n",
       "      <td>0.728789</td>\n",
       "    </tr>\n",
       "    <tr>\n",
       "      <th>max</th>\n",
       "      <td>1.346945</td>\n",
       "      <td>119.179788</td>\n",
       "      <td>3.262964</td>\n",
       "    </tr>\n",
       "  </tbody>\n",
       "</table>\n",
       "</div>"
      ],
      "text/plain": [
       "            xi         tau    source\n",
       "mean -0.063630   70.932252  0.086420\n",
       "std   0.507911   13.116245  0.934589\n",
       "min  -1.829130   39.263627 -2.700146\n",
       "25%  -0.392495   61.698817 -0.573860\n",
       "50%  -0.100073   70.715856  0.068347\n",
       "75%   0.223220   78.771765  0.728789\n",
       "max   1.346945  119.179788  3.262964"
      ]
     },
     "execution_count": 122,
     "metadata": {},
     "output_type": "execute_result"
    }
   ],
   "source": [
    "feature_parameters.describe().drop('count')"
   ]
  },
  {
   "cell_type": "markdown",
   "metadata": {},
   "source": [
    "# Simulation with closed form geodesics"
   ]
  },
  {
   "cell_type": "code",
   "execution_count": 2,
   "metadata": {},
   "outputs": [],
   "source": [
    "# logistic sampler from individidual parameters\n",
    "\n",
    "def logistic(timepoints, acceleration, timeshift, a=0, b=1, spaceshift=None, noise=None):\n",
    "    \"\"\"\n",
    "    - timepoints : real ages of patients at which we want the visits\n",
    "    - acceleration : feature wise acceleration factor\n",
    "    - timeshift : feature wise timeshift (point at which the logistic curves hits a fixed value across features)\n",
    "    - a,b : first asymptote and second asymptote. By default features go from 0 to 1\n",
    "    \"\"\"\n",
    "    L = np.exp(acceleration)/10*(timepoints - timeshift)\n",
    "    if noise is not None:\n",
    "        L = L+noise\n",
    "    if spaceshift is not None:\n",
    "        return a + (b-a)/(1+np.exp(-L + spaceshift/20)) \n",
    "    return a + (b-a)/(1+np.exp(-L))\n",
    "\n",
    "def sum_logistic(timepoints, acceleration, timeshift, a=0, b=1, spaceshift=None):\n",
    "    \"\"\"\n",
    "    - timepoints : real ages of patients at which we want the visits\n",
    "    - acceleration : feature wise acceleration factor\n",
    "    - timeshift : feature wise timeshift (point at which the logistic curves hits a fixed value across features)\n",
    "    - a,b : first asymptote and second asymptote. By default features go from 0 to 1\n",
    "    \"\"\"\n",
    "    Lp = np.exp(acceleration)/3*(np.array(timepoints) - np.array(timeshift)) + 4\n",
    "    Lm = np.exp(acceleration)/3*(np.array(timepoints) - np.array(timeshift)) - 4\n",
    "    if spaceshift is not None:\n",
    "        return a + (b-a)/(1+np.exp(-Lp + spaceshift/3))/2 + (b-a)/(1+np.exp(-Lm + spaceshift/3))/2\n",
    "    return  a + (b-a)/(1+np.exp(-Lp))/2 + (b-a)/(1+np.exp(-Lm))/2\n",
    "\n",
    "def linear(timepoints, acceleration, timeshift, a=0, b=1, spaceshift=None):\n",
    "    \"\"\"\n",
    "    - timepoints : real ages of patients at which we want the visits\n",
    "    - acceleration : feature wise acceleration factor\n",
    "    - timeshift : feature wise timeshift (point at which the logistic curves hits a fixed value across features)\n",
    "    - a,b : first 'asymptote' and second 'asymptote'. By default features go from 0 to 1\n",
    "    \"\"\"\n",
    "    m = (b-a)/80\n",
    "    if spaceshift is not None:\n",
    "        return a + (b-a)/2 + m*np.exp(acceleration)*(timepoints-timeshift) + m*spaceshift\n",
    "    return a + (b-a)/2 + m*np.exp(acceleration)*(timepoints-timeshift)"
   ]
  },
  {
   "cell_type": "code",
   "execution_count": 68,
   "metadata": {},
   "outputs": [
    {
     "name": "stderr",
     "output_type": "stream",
     "text": [
      "No handles with labels found to put in legend.\n"
     ]
    },
    {
     "data": {
      "image/png": "[encoded data removed]",
      "text/plain": [
       "<Figure size 432x288 with 1 Axes>"
      ]
     },
     "metadata": {
      "needs_background": "light"
     },
     "output_type": "display_data"
    }
   ],
   "source": [
    "t = np.arange(45,110,1)\n",
    "\n",
    "#t = np.array([50,50.5,51,52,53])\n",
    "p1 = logistic(t, 0, 70, 0.2, 0.8, spaceshift=0)\n",
    "p2 = sum_logistic(t, 0, 70, 0.3, 1, spaceshift=0) \n",
    "p3 = linear(t, 0, 70, 0.4, 0.9, spaceshift=0)\n",
    "p1_source_neg = logistic(t, 0, 70, 0.2, 0.8, 8)\n",
    "p2_source_neg = sum_logistic(t, 0, 70, 0.3, 1, -8) \n",
    "p3_source_neg = linear(t, 0, 70, 0.4, 0.9, -8)\n",
    "p1_source_pos = logistic(t, 0, 70, 0.2, 0.8, -8)\n",
    "p2_source_pos = sum_logistic(t, 0, 70, 0.3, 1, 8) \n",
    "p3_source_pos = linear(t, 0, 70, 0.4, 0.9, 8)\n",
    "\n",
    "plt.plot(t,p1,c='b')\n",
    "plt.plot(t,p3,c='g')\n",
    "\n",
    "\"\"\"\n",
    "plt.plot(t,p3,c='r')\n",
    "plt.plot(t,p1_source_pos)\n",
    "plt.plot(t,p1_source_neg)\n",
    "plt.plot(t,p3_source_pos)\n",
    "plt.plot(t,p3_source_neg)\n",
    "\"\"\"\n",
    "plt.legend()\n",
    "plt.show()\n"
   ]
  },
  {
   "cell_type": "code",
   "execution_count": 4,
   "metadata": {},
   "outputs": [
    {
     "data": {
      "text/plain": [
       "[<matplotlib.lines.Line2D at 0x7f5a90dd63d0>]"
      ]
     },
     "execution_count": 4,
     "metadata": {},
     "output_type": "execute_result"
    },
    {
     "data": {
      "image/png": "[encoded data removed]",
      "text/plain": [
       "<Figure size 432x288 with 1 Axes>"
      ]
     },
     "metadata": {
      "needs_background": "light"
     },
     "output_type": "display_data"
    }
   ],
   "source": [
    "plt.plot(p1,p2)\n",
    "plt.plot(p1_source_neg,p2_source_neg)\n",
    "plt.plot(p1_source_pos,p2_source_pos)"
   ]
  },
  {
   "cell_type": "code",
   "execution_count": 108,
   "metadata": {},
   "outputs": [],
   "source": [
    "# generate the associated trajectories \n",
    "\n",
    "visits_per_patients = 5\n",
    "time_between_visits = 0.5\n",
    "columns = ['feat1', 'feat2']\n",
    "\n",
    "noise_std = 0.02\n",
    "\n",
    "data = []\n",
    "for sub in feature_parameters.index:\n",
    "    time_first_visit = np.random.normal(loc=70, scale=15)\n",
    "    #time_first_visit = 70\n",
    "    timepoints = [time_first_visit + i*time_between_visits for i in range(visits_per_patients)]\n",
    "    id_params = feature_parameters.loc[sub]\n",
    "    feature_1 = logistic(np.array(timepoints), id_params[0], id_params[1], a=0.2, b=0.8, spaceshift=-id_params[2]/2) + np.random.normal(0, noise_std, visits_per_patients)\n",
    "    feature_2 = sum_logistic(np.array(timepoints), id_params[0], id_params[1], a=0.3, b=1, spaceshift=id_params[2]/2)+ np.random.normal(0, noise_std, visits_per_patients)\n",
    "    #feature_2 = linear(np.array(timepoints), id_params[0], id_params[1], a=0.4, b=0.9, spaceshift=id_params[2]/2)+ np.random.normal(0, noise_std, visits_per_patients)\n",
    "\n",
    "    sub_data = pd.DataFrame([timepoints,feature_1, feature_2]).T\n",
    "    sub_data.columns = ['TIME', 'feat1', 'feat2']\n",
    "    sub_data['ID'] = sub\n",
    "    sub_data = sub_data.set_index(['ID'])\n",
    "    \n",
    "    data.append(sub_data)\n",
    "    \n",
    "data = pd.concat(data)"
   ]
  },
  {
   "cell_type": "code",
   "execution_count": 109,
   "metadata": {},
   "outputs": [],
   "source": [
    "# Histogram of reparametrized ages\n",
    "\n",
    "ages = []\n",
    "for sub in data.index.unique():\n",
    "    ip = feature_parameters.loc[sub]\n",
    "    timepoints = data.loc[sub]['TIME']\n",
    "    ages += list((np.exp(ip['xi'])*(timepoints - ip['tau']) + 70).values)\n",
    "    "
   ]
  },
  {
   "cell_type": "code",
   "execution_count": 110,
   "metadata": {},
   "outputs": [
    {
     "data": {
      "text/plain": [
       "(array([ 4.,  1.,  0.,  0.,  0.,  4.,  1.,  0.,  0.,  0.,  0.,  1.,  7.,\n",
       "        11.,  8.,  9., 16., 22., 16., 28., 41., 41., 32., 61., 20., 23.,\n",
       "        33., 25., 21., 22., 13.,  9.,  1.,  5.,  0.,  1.,  7.,  3.,  6.,\n",
       "         8.]),\n",
       " array([-20.46073285, -16.61129752, -12.7618622 ,  -8.91242687,\n",
       "         -5.06299154,  -1.21355622,   2.63587911,   6.48531443,\n",
       "         10.33474976,  14.18418509,  18.03362041,  21.88305574,\n",
       "         25.73249107,  29.58192639,  33.43136172,  37.28079705,\n",
       "         41.13023237,  44.9796677 ,  48.82910303,  52.67853835,\n",
       "         56.52797368,  60.377409  ,  64.22684433,  68.07627966,\n",
       "         71.92571498,  75.77515031,  79.62458564,  83.47402096,\n",
       "         87.32345629,  91.17289162,  95.02232694,  98.87176227,\n",
       "        102.7211976 , 106.57063292, 110.42006825, 114.26950357,\n",
       "        118.1189389 , 121.96837423, 125.81780955, 129.66724488,\n",
       "        133.51668021]),\n",
       " <BarContainer object of 40 artists>)"
      ]
     },
     "execution_count": 110,
     "metadata": {},
     "output_type": "execute_result"
    },
    {
     "data": {
      "image/png": "[encoded data removed]",
      "text/plain": [
       "<Figure size 432x288 with 1 Axes>"
      ]
     },
     "metadata": {
      "needs_background": "light"
     },
     "output_type": "display_data"
    }
   ],
   "source": [
    "plt.hist(ages, bins=40)"
   ]
  },
  {
   "cell_type": "code",
   "execution_count": 111,
   "metadata": {},
   "outputs": [
    {
     "data": {
      "text/html": [
       "<div>\n",
       "<style scoped>\n",
       "    .dataframe tbody tr th:only-of-type {\n",
       "        vertical-align: middle;\n",
       "    }\n",
       "\n",
       "    .dataframe tbody tr th {\n",
       "        vertical-align: top;\n",
       "    }\n",
       "\n",
       "    .dataframe thead th {\n",
       "        text-align: right;\n",
       "    }\n",
       "</style>\n",
       "<table border=\"1\" class=\"dataframe\">\n",
       "  <thead>\n",
       "    <tr style=\"text-align: right;\">\n",
       "      <th></th>\n",
       "      <th>TIME</th>\n",
       "      <th>feat1</th>\n",
       "      <th>feat2</th>\n",
       "    </tr>\n",
       "  </thead>\n",
       "  <tbody>\n",
       "    <tr>\n",
       "      <th>count</th>\n",
       "      <td>500.000000</td>\n",
       "      <td>500.000000</td>\n",
       "      <td>500.000000</td>\n",
       "    </tr>\n",
       "    <tr>\n",
       "      <th>mean</th>\n",
       "      <td>71.172184</td>\n",
       "      <td>0.488478</td>\n",
       "      <td>0.643700</td>\n",
       "    </tr>\n",
       "    <tr>\n",
       "      <th>std</th>\n",
       "      <td>15.588227</td>\n",
       "      <td>0.192085</td>\n",
       "      <td>0.262012</td>\n",
       "    </tr>\n",
       "    <tr>\n",
       "      <th>min</th>\n",
       "      <td>35.452264</td>\n",
       "      <td>0.161583</td>\n",
       "      <td>0.257160</td>\n",
       "    </tr>\n",
       "    <tr>\n",
       "      <th>10%</th>\n",
       "      <td>51.560849</td>\n",
       "      <td>0.238530</td>\n",
       "      <td>0.306081</td>\n",
       "    </tr>\n",
       "    <tr>\n",
       "      <th>20%</th>\n",
       "      <td>58.002724</td>\n",
       "      <td>0.288990</td>\n",
       "      <td>0.334179</td>\n",
       "    </tr>\n",
       "    <tr>\n",
       "      <th>50%</th>\n",
       "      <td>70.057181</td>\n",
       "      <td>0.466342</td>\n",
       "      <td>0.646782</td>\n",
       "    </tr>\n",
       "    <tr>\n",
       "      <th>80%</th>\n",
       "      <td>85.477026</td>\n",
       "      <td>0.702411</td>\n",
       "      <td>0.964174</td>\n",
       "    </tr>\n",
       "    <tr>\n",
       "      <th>95%</th>\n",
       "      <td>97.309261</td>\n",
       "      <td>0.784783</td>\n",
       "      <td>1.006217</td>\n",
       "    </tr>\n",
       "    <tr>\n",
       "      <th>max</th>\n",
       "      <td>107.135171</td>\n",
       "      <td>0.830033</td>\n",
       "      <td>1.053689</td>\n",
       "    </tr>\n",
       "  </tbody>\n",
       "</table>\n",
       "</div>"
      ],
      "text/plain": [
       "             TIME       feat1       feat2\n",
       "count  500.000000  500.000000  500.000000\n",
       "mean    71.172184    0.488478    0.643700\n",
       "std     15.588227    0.192085    0.262012\n",
       "min     35.452264    0.161583    0.257160\n",
       "10%     51.560849    0.238530    0.306081\n",
       "20%     58.002724    0.288990    0.334179\n",
       "50%     70.057181    0.466342    0.646782\n",
       "80%     85.477026    0.702411    0.964174\n",
       "95%     97.309261    0.784783    1.006217\n",
       "max    107.135171    0.830033    1.053689"
      ]
     },
     "execution_count": 111,
     "metadata": {},
     "output_type": "execute_result"
    }
   ],
   "source": [
    "data.describe(percentiles=[.1,.2,.8,.95])"
   ]
  },
  {
   "cell_type": "code",
   "execution_count": 112,
   "metadata": {},
   "outputs": [],
   "source": [
    "data_path = 'simulated_study/simulated_data_4/'\n",
    "data.to_csv(data_path + 'simulated_data_4.csv')\n",
    "feature_parameters.to_csv(data_path + 'true_individual_parameters.csv')"
   ]
  },
  {
   "cell_type": "markdown",
   "metadata": {},
   "source": [
    "## Save the data "
   ]
  },
  {
   "cell_type": "code",
   "execution_count": 113,
   "metadata": {},
   "outputs": [],
   "source": [
    "X = data['TIME'].values\n",
    "Y = data[['feat1', 'feat2']].values\n",
    "group = [int(sub) for sub in data.index.values]"
   ]
  },
  {
   "cell_type": "code",
   "execution_count": 114,
   "metadata": {},
   "outputs": [],
   "source": [
    "np.savetxt(data_path + 'X.csv', X)\n",
    "np.savetxt(data_path + 'Y.csv', Y, delimiter=',')\n",
    "np.savetxt(data_path + 'group.csv', group)"
   ]
  },
  {
   "cell_type": "code",
   "execution_count": 83,
   "metadata": {},
   "outputs": [
    {
     "data": {
      "text/html": [
       "<div>\n",
       "<style scoped>\n",
       "    .dataframe tbody tr th:only-of-type {\n",
       "        vertical-align: middle;\n",
       "    }\n",
       "\n",
       "    .dataframe tbody tr th {\n",
       "        vertical-align: top;\n",
       "    }\n",
       "\n",
       "    .dataframe thead th {\n",
       "        text-align: right;\n",
       "    }\n",
       "</style>\n",
       "<table border=\"1\" class=\"dataframe\">\n",
       "  <thead>\n",
       "    <tr style=\"text-align: right;\">\n",
       "      <th></th>\n",
       "      <th>TIME</th>\n",
       "      <th>feat1</th>\n",
       "      <th>feat2</th>\n",
       "    </tr>\n",
       "  </thead>\n",
       "  <tbody>\n",
       "    <tr>\n",
       "      <th>count</th>\n",
       "      <td>800.000000</td>\n",
       "      <td>800.000000</td>\n",
       "      <td>800.000000</td>\n",
       "    </tr>\n",
       "    <tr>\n",
       "      <th>mean</th>\n",
       "      <td>71.252696</td>\n",
       "      <td>0.510620</td>\n",
       "      <td>0.655286</td>\n",
       "    </tr>\n",
       "    <tr>\n",
       "      <th>std</th>\n",
       "      <td>10.036833</td>\n",
       "      <td>0.189256</td>\n",
       "      <td>0.162464</td>\n",
       "    </tr>\n",
       "    <tr>\n",
       "      <th>min</th>\n",
       "      <td>45.421173</td>\n",
       "      <td>0.084783</td>\n",
       "      <td>0.136826</td>\n",
       "    </tr>\n",
       "    <tr>\n",
       "      <th>10%</th>\n",
       "      <td>58.891226</td>\n",
       "      <td>0.249743</td>\n",
       "      <td>0.439783</td>\n",
       "    </tr>\n",
       "    <tr>\n",
       "      <th>20%</th>\n",
       "      <td>62.573234</td>\n",
       "      <td>0.333949</td>\n",
       "      <td>0.551375</td>\n",
       "    </tr>\n",
       "    <tr>\n",
       "      <th>30%</th>\n",
       "      <td>64.859459</td>\n",
       "      <td>0.393284</td>\n",
       "      <td>0.593976</td>\n",
       "    </tr>\n",
       "    <tr>\n",
       "      <th>50%</th>\n",
       "      <td>71.445693</td>\n",
       "      <td>0.516825</td>\n",
       "      <td>0.654417</td>\n",
       "    </tr>\n",
       "    <tr>\n",
       "      <th>70%</th>\n",
       "      <td>76.979007</td>\n",
       "      <td>0.628455</td>\n",
       "      <td>0.721354</td>\n",
       "    </tr>\n",
       "    <tr>\n",
       "      <th>80%</th>\n",
       "      <td>79.929726</td>\n",
       "      <td>0.692023</td>\n",
       "      <td>0.785039</td>\n",
       "    </tr>\n",
       "    <tr>\n",
       "      <th>90%</th>\n",
       "      <td>84.146129</td>\n",
       "      <td>0.756454</td>\n",
       "      <td>0.867518</td>\n",
       "    </tr>\n",
       "    <tr>\n",
       "      <th>95%</th>\n",
       "      <td>89.144743</td>\n",
       "      <td>0.815083</td>\n",
       "      <td>0.933759</td>\n",
       "    </tr>\n",
       "    <tr>\n",
       "      <th>max</th>\n",
       "      <td>96.169167</td>\n",
       "      <td>0.974269</td>\n",
       "      <td>1.095116</td>\n",
       "    </tr>\n",
       "  </tbody>\n",
       "</table>\n",
       "</div>"
      ],
      "text/plain": [
       "             TIME       feat1       feat2\n",
       "count  800.000000  800.000000  800.000000\n",
       "mean    71.252696    0.510620    0.655286\n",
       "std     10.036833    0.189256    0.162464\n",
       "min     45.421173    0.084783    0.136826\n",
       "10%     58.891226    0.249743    0.439783\n",
       "20%     62.573234    0.333949    0.551375\n",
       "30%     64.859459    0.393284    0.593976\n",
       "50%     71.445693    0.516825    0.654417\n",
       "70%     76.979007    0.628455    0.721354\n",
       "80%     79.929726    0.692023    0.785039\n",
       "90%     84.146129    0.756454    0.867518\n",
       "95%     89.144743    0.815083    0.933759\n",
       "max     96.169167    0.974269    1.095116"
      ]
     },
     "execution_count": 83,
     "metadata": {},
     "output_type": "execute_result"
    }
   ],
   "source": [
    "data.describe(percentiles=[.1,.2,.3,.5,.7,.8,.9, .95])"
   ]
  },
  {
   "cell_type": "code",
   "execution_count": null,
   "metadata": {},
   "outputs": [],
   "source": []
  },
  {
   "cell_type": "code",
   "execution_count": null,
   "metadata": {},
   "outputs": [],
   "source": []
  },
  {
   "cell_type": "markdown",
   "metadata": {},
   "source": [
    "# Simulating with a metric"
   ]
  },
  {
   "cell_type": "code",
   "execution_count": 116,
   "metadata": {},
   "outputs": [
    {
     "name": "stdout",
     "output_type": "stream",
     "text": [
      "[pyKeOps]: Warning, cuda was detected, but driver API could not be initialized. Switching to cpu only.\n"
     ]
    }
   ],
   "source": [
    "import numpy as np\n",
    "import pandas as pd\n",
    "import torch\n",
    "import sys\n",
    "from matplotlib import pyplot as plt\n",
    "%matplotlib inline\n",
    "\n",
    "sys.path.append('/home/benoit.sautydechalon/deformetrica')\n",
    "\n",
    "from deformetrica.core.estimator_tools.samplers.srw_mhwg_sampler import SrwMhwgSampler\n",
    "from deformetrica.core.estimators.gradient_ascent import GradientAscent\n",
    "from deformetrica.core.estimators.mcmc_saem import McmcSaem\n",
    "# Estimators\n",
    "from deformetrica.core.estimators.scipy_optimize import ScipyOptimize\n",
    "from deformetrica.core.model_tools.manifolds.exponential_factory import ExponentialFactory\n",
    "from deformetrica.core.model_tools.manifolds.generic_spatiotemporal_reference_frame import GenericSpatiotemporalReferenceFrame\n",
    "from deformetrica.core.models.longitudinal_metric_learning import LongitudinalMetricLearning\n",
    "from deformetrica.core.models.model_functions import create_regular_grid_of_points\n",
    "from deformetrica.in_out.array_readers_and_writers import read_2D_array\n",
    "from deformetrica.in_out.dataset_functions import read_and_create_scalar_dataset, read_and_create_image_dataset\n",
    "from deformetrica.support.probability_distributions.multi_scalar_normal_distribution import MultiScalarNormalDistribution\n",
    "from deformetrica.support.utilities.general_settings import Settings\n",
    "from deformetrica import estimate_longitudinal_metric_model\n",
    "from deformetrica.in_out.array_readers_and_writers import *\n",
    "from deformetrica.launch.estimate_longitudinal_metric_model import instantiate_longitudinal_metric_model\n",
    "import deformetrica as dfca"
   ]
  },
  {
   "cell_type": "code",
   "execution_count": 126,
   "metadata": {},
   "outputs": [],
   "source": [
    "path = 'simulated_study'\n",
    "args = {'verbosity':'INFO', 'output':'personalize',\n",
    "        'model':path+'/model_personalize.xml', 'dataset':path+'/data_set.xml', 'parameters':path+'/optimization_parameters_saem.xml'}\n",
    "\n",
    "\n",
    "\"\"\"\n",
    "Read xml files, set general settings, and call the adapted function.\n",
    "\"\"\"\n",
    "\n",
    "xml_parameters = dfca.io.XmlParameters()\n",
    "xml_parameters.read_all_xmls(args['model'],\n",
    "                             args['dataset'],\n",
    "                             args['parameters'])\n",
    "\n",
    "logger = logging.getLogger(__name__)\n",
    "logging.getLogger('matplotlib').setLevel(logging.ERROR)\n",
    "logger.setLevel(logging.INFO)"
   ]
  },
  {
   "cell_type": "code",
   "execution_count": 128,
   "metadata": {
    "scrolled": true
   },
   "outputs": [
    {
     "name": "stdout",
     "output_type": "stream",
     "text": [
      "Patient  129  was estimated with an absurd timeshift tensor(121.4855)\n",
      "210 good iterations out of 211\n",
      "192 good iterations out of 241\n"
     ]
    }
   ],
   "source": [
    "dataset = read_and_create_scalar_dataset(xml_parameters)\n",
    "model, individual_RER = instantiate_longitudinal_metric_model(xml_parameters, logger, dataset, observation_type='scalar')"
   ]
  },
  {
   "cell_type": "code",
   "execution_count": 140,
   "metadata": {},
   "outputs": [],
   "source": [
    "onset_ages = torch.tensor(feature_parameters['tau'])\n",
    "log_accelerations = torch.tensor(feature_parameters['xi'])\n",
    "sources = torch.tensor([[float(source)] for source in feature_parameters['source'].values])"
   ]
  },
  {
   "cell_type": "code",
   "execution_count": 183,
   "metadata": {},
   "outputs": [],
   "source": [
    "# Timepoints of visits\n",
    "\n",
    "visits_per_patients = 10\n",
    "time_between_visits = 0.5\n",
    "\n",
    "noise_std = 0.02\n",
    "\n",
    "timepoints_lst = []\n",
    "timepoints = []\n",
    "\n",
    "for sub in feature_parameters.index:\n",
    "    time_first_visit = np.random.normal(loc=70, scale=15)\n",
    "    timepoints_lst = timepoints_lst + [time_first_visit + i*time_between_visits for i in range(visits_per_patients)]\n",
    "    timepoints.append([time_first_visit + i*time_between_visits for i in range(visits_per_patients)])"
   ]
  },
  {
   "cell_type": "code",
   "execution_count": 186,
   "metadata": {},
   "outputs": [
    {
     "name": "stdout",
     "output_type": "stream",
     "text": [
      "Patient  31  was estimated with an absurd timeshift tensor(131.0913)\n",
      "Patient  40  was estimated with an absurd timeshift tensor(129.4107)\n",
      "Patient  45  was estimated with an absurd timeshift tensor(161.2729)\n",
      "210 good iterations out of 211\n",
      "192 good iterations out of 241\n"
     ]
    }
   ],
   "source": [
    "v0, p0, metric_parameters, modulation_matrix = model._fixed_effects_to_torch_tensors(False)\n",
    "#onset_ages, log_accelerations, sources = model._individual_RER_to_torch_tensors(individual_RER, False)\n",
    "t0 = model.get_reference_time()\n",
    "\n",
    "absolute_times = model._compute_absolute_times(np.array(timepoints), log_accelerations, onset_ages)\n",
    "\n",
    "absolute_times_to_write = []\n",
    "for elt in absolute_times:\n",
    "    for e in elt.cpu().data.numpy():\n",
    "        absolute_times_to_write.append(e)\n",
    "\n",
    "#np.savetxt(os.path.join(Settings().output_dir, \"LongitudinalMetricModel_absolute_times.txt\"), np.array(absolute_times_to_write))\n",
    "\n",
    "model._update_spatiotemporal_reference_frame(absolute_times, p0, v0, metric_parameters,\n",
    "                                            modulation_matrix)"
   ]
  },
  {
   "cell_type": "code",
   "execution_count": 187,
   "metadata": {
    "scrolled": true
   },
   "outputs": [],
   "source": [
    "predictions = []\n",
    "subject_ids = []\n",
    "times = []\n",
    "\n",
    "targets = dataset.deformable_objects\n",
    "\n",
    "number_of_subjects = dataset.number_of_subjects\n",
    "residuals = []\n",
    "\n",
    "for i in range(number_of_subjects):\n",
    "    predictions_i = []\n",
    "    for j, t in enumerate(absolute_times[i]):\n",
    "        if sources is not None:\n",
    "            prediction = model.spatiotemporal_reference_frame.get_position(t, sources=sources[i])\n",
    "        else:\n",
    "            prediction = model.spatiotemporal_reference_frame.get_position(t)\n",
    "        predictions_i.append(prediction.cpu().data.numpy())\n",
    "        predictions.append(prediction.cpu().data.numpy())\n",
    "        subject_ids.append(dataset.subject_ids[i])\n",
    "        times.append(dataset.times[i][j])\n",
    "    targets_i = targets[i].cpu().data.numpy()\n"
   ]
  },
  {
   "cell_type": "code",
   "execution_count": 150,
   "metadata": {
    "scrolled": true
   },
   "outputs": [],
   "source": [
    "feat_1 = [prediction[0] for prediction in predictions]\n",
    "feat_2 = [prediction[1] for prediction in predictions]"
   ]
  },
  {
   "cell_type": "code",
   "execution_count": 152,
   "metadata": {},
   "outputs": [],
   "source": [
    "data_path = 'simulated_study/simulated_data_metric_1/'\n",
    "feature_parameters.to_csv(data_path + 'true_individual_parameters.csv')"
   ]
  },
  {
   "cell_type": "markdown",
   "metadata": {},
   "source": [
    "## Save the data "
   ]
  },
  {
   "cell_type": "code",
   "execution_count": 205,
   "metadata": {},
   "outputs": [],
   "source": [
    "X = np.array(timepoints_lst)\n",
    "Y = predictions\n",
    "group = []\n",
    "for i in range(len(timepoints)):\n",
    "    group = group + [i for j in range(10)]"
   ]
  },
  {
   "cell_type": "code",
   "execution_count": 206,
   "metadata": {},
   "outputs": [],
   "source": [
    "np.savetxt(data_path + 'X.csv', X)\n",
    "np.savetxt(data_path + 'Y.csv', Y, delimiter=',')\n",
    "np.savetxt(data_path + 'group.csv', group)"
   ]
  },
  {
   "cell_type": "code",
   "execution_count": 190,
   "metadata": {},
   "outputs": [
    {
     "data": {
      "text/plain": [
       "array([ 0,  0,  0,  0,  0,  1,  1,  1,  1,  1,  2,  2,  2,  2,  2,  3,  3,\n",
       "        3,  3,  3,  4,  4,  4,  4,  4,  5,  5,  5,  5,  5,  6,  6,  6,  6,\n",
       "        6,  7,  7,  7,  7,  7,  8,  8,  8,  8,  8,  9,  9,  9,  9,  9, 10,\n",
       "       10, 10, 10, 10, 11, 11, 11, 11, 11, 12, 12, 12, 12, 12, 13, 13, 13,\n",
       "       13, 13, 14, 14, 14, 14, 14, 15, 15, 15, 15, 15, 16, 16, 16, 16, 16,\n",
       "       17, 17, 17, 17, 17, 18, 18, 18, 18, 18, 19, 19, 19, 19, 19, 20, 20,\n",
       "       20, 20, 20, 21, 21, 21, 21, 21, 22, 22, 22, 22, 22, 23, 23, 23, 23,\n",
       "       23, 24, 24, 24, 24, 24, 25, 25, 25, 25, 25, 26, 26, 26, 26, 26, 27,\n",
       "       27, 27, 27, 27, 28, 28, 28, 28, 28, 29, 29, 29, 29, 29, 30, 30, 30,\n",
       "       30, 30, 31, 31, 31, 31, 31, 32, 32, 32, 32, 32, 33, 33, 33, 33, 33,\n",
       "       34, 34, 34, 34, 34, 35, 35, 35, 35, 35, 36, 36, 36, 36, 36, 37, 37,\n",
       "       37, 37, 37, 38, 38, 38, 38, 38, 39, 39, 39, 39, 39, 40, 40, 40, 40,\n",
       "       40, 41, 41, 41, 41, 41, 42, 42, 42, 42, 42, 43, 43, 43, 43, 43, 44,\n",
       "       44, 44, 44, 44, 45, 45, 45, 45, 45, 46, 46, 46, 46, 46, 47, 47, 47,\n",
       "       47, 47, 48, 48, 48, 48, 48, 49, 49, 49, 49, 49, 50, 50, 50, 50, 50,\n",
       "       51, 51, 51, 51, 51, 52, 52, 52, 52, 52, 53, 53, 53, 53, 53, 54, 54,\n",
       "       54, 54, 54, 55, 55, 55, 55, 55, 56, 56, 56, 56, 56, 57, 57, 57, 57,\n",
       "       57, 58, 58, 58, 58, 58, 59, 59, 59, 59, 59, 60, 60, 60, 60, 60, 61,\n",
       "       61, 61, 61, 61, 62, 62, 62, 62, 62, 63, 63, 63, 63, 63, 64, 64, 64,\n",
       "       64, 64, 65, 65, 65, 65, 65, 66, 66, 66, 66, 66, 67, 67, 67, 67, 67,\n",
       "       68, 68, 68, 68, 68, 69, 69, 69, 69, 69, 70, 70, 70, 70, 70, 71, 71,\n",
       "       71, 71, 71, 72, 72, 72, 72, 72, 73, 73, 73, 73, 73, 74, 74, 74, 74,\n",
       "       74, 75, 75, 75, 75, 75, 76, 76, 76, 76, 76, 77, 77, 77, 77, 77, 78,\n",
       "       78, 78, 78, 78, 79, 79, 79, 79, 79, 80, 80, 80, 80, 80, 81, 81, 81,\n",
       "       81, 81, 82, 82, 82, 82, 82, 83, 83, 83, 83, 83, 84, 84, 84, 84, 84,\n",
       "       85, 85, 85, 85, 85, 86, 86, 86, 86, 86, 87, 87, 87, 87, 87, 88, 88,\n",
       "       88, 88, 88, 89, 89, 89, 89, 89, 90, 90, 90, 90, 90, 91, 91, 91, 91,\n",
       "       91, 92, 92, 92, 92, 92, 93, 93, 93, 93, 93, 94, 94, 94, 94, 94, 95,\n",
       "       95, 95, 95, 95, 96, 96, 96, 96, 96, 97, 97, 97, 97, 97, 98, 98, 98,\n",
       "       98, 98, 99, 99, 99, 99, 99])"
      ]
     },
     "execution_count": 190,
     "metadata": {},
     "output_type": "execute_result"
    }
   ],
   "source": [
    "data.index.values"
   ]
  },
  {
   "cell_type": "code",
   "execution_count": null,
   "metadata": {},
   "outputs": [],
   "source": []
  }
 ],
 "metadata": {
  "kernelspec": {
   "display_name": "pami",
   "language": "python",
   "name": "pami"
  },
  "language_info": {
   "codemirror_mode": {
    "name": "ipython",
    "version": 3
   },
   "file_extension": ".py",
   "mimetype": "text/x-python",
   "name": "python",
   "nbconvert_exporter": "python",
   "pygments_lexer": "ipython3",
   "version": "3.8.5"
  }
 },
 "nbformat": 4,
 "nbformat_minor": 4
}
