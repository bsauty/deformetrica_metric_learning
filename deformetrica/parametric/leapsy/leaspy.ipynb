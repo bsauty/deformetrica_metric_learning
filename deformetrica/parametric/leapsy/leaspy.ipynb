{
 "cells": [
  {
   "cell_type": "markdown",
   "metadata": {},
   "source": [
    "# Leaspy model for comparison"
   ]
  },
  {
   "cell_type": "code",
   "execution_count": 33,
   "metadata": {},
   "outputs": [
    {
     "name": "stdout",
     "output_type": "stream",
     "text": [
      "The autoreload extension is already loaded. To reload it, use:\n",
      "  %reload_ext autoreload\n"
     ]
    }
   ],
   "source": [
    "import torch\n",
    "import os, sys\n",
    "import pandas as pd\n",
    "import numpy as np\n",
    "import matplotlib.pyplot as plt\n",
    "import matplotlib\n",
    "import seaborn as sns\n",
    "\n",
    "import warnings\n",
    "warnings.filterwarnings(\"ignore\")\n",
    "\n",
    "%load_ext autoreload\n",
    "%autoreload 2\n",
    "# import leaspy\n",
    "\n",
    "path_leaspy = '/home/benoit.sautydechalon/leaspy/'\n",
    "sys.path.append(path_leaspy)\n",
    "\n",
    "from leaspy import Leaspy, Data, IndividualParameters, AlgorithmSettings"
   ]
  },
  {
   "cell_type": "markdown",
   "metadata": {},
   "source": [
    "### MDS"
   ]
  },
  {
   "cell_type": "code",
   "execution_count": 34,
   "metadata": {},
   "outputs": [
    {
     "ename": "NameError",
     "evalue": "name 'mds1' is not defined",
     "output_type": "error",
     "traceback": [
      "\u001b[0;31m---------------------------------------------------------------------------\u001b[0m",
      "\u001b[0;31mNameError\u001b[0m                                 Traceback (most recent call last)",
      "\u001b[0;32m<ipython-input-34-f9568e3b7bd8>\u001b[0m in \u001b[0;36m<module>\u001b[0;34m\u001b[0m\n\u001b[1;32m      1\u001b[0m \u001b[0mdata\u001b[0m \u001b[0;34m=\u001b[0m \u001b[0mpd\u001b[0m\u001b[0;34m.\u001b[0m\u001b[0mDataFrame\u001b[0m\u001b[0;34m(\u001b[0m\u001b[0mindex\u001b[0m\u001b[0;34m=\u001b[0m\u001b[0;34m[\u001b[0m\u001b[0mids\u001b[0m\u001b[0;34m,\u001b[0m \u001b[0mtimes\u001b[0m\u001b[0;34m]\u001b[0m\u001b[0;34m,\u001b[0m \u001b[0mcolumns\u001b[0m\u001b[0;34m=\u001b[0m\u001b[0;34m[\u001b[0m\u001b[0;34m'mds1'\u001b[0m\u001b[0;34m,\u001b[0m \u001b[0;34m'mds2'\u001b[0m\u001b[0;34m]\u001b[0m\u001b[0;34m)\u001b[0m\u001b[0;34m\u001b[0m\u001b[0;34m\u001b[0m\u001b[0m\n\u001b[0;32m----> 2\u001b[0;31m \u001b[0mdata\u001b[0m\u001b[0;34m[\u001b[0m\u001b[0;34m'mds1'\u001b[0m\u001b[0;34m]\u001b[0m \u001b[0;34m=\u001b[0m \u001b[0mmds1\u001b[0m\u001b[0;34m\u001b[0m\u001b[0;34m\u001b[0m\u001b[0m\n\u001b[0m\u001b[1;32m      3\u001b[0m \u001b[0mdata\u001b[0m\u001b[0;34m[\u001b[0m\u001b[0;34m'mds2'\u001b[0m\u001b[0;34m]\u001b[0m \u001b[0;34m=\u001b[0m \u001b[0mmds2\u001b[0m\u001b[0;34m\u001b[0m\u001b[0;34m\u001b[0m\u001b[0m\n\u001b[1;32m      4\u001b[0m \u001b[0mdata\u001b[0m\u001b[0;34m.\u001b[0m\u001b[0mindex\u001b[0m\u001b[0;34m.\u001b[0m\u001b[0mset_names\u001b[0m\u001b[0;34m(\u001b[0m\u001b[0;34m[\u001b[0m\u001b[0;34m'ID'\u001b[0m\u001b[0;34m,\u001b[0m\u001b[0;34m'TIME'\u001b[0m\u001b[0;34m]\u001b[0m\u001b[0;34m,\u001b[0m \u001b[0minplace\u001b[0m\u001b[0;34m=\u001b[0m\u001b[0;32mTrue\u001b[0m\u001b[0;34m)\u001b[0m\u001b[0;34m\u001b[0m\u001b[0;34m\u001b[0m\u001b[0m\n\u001b[1;32m      5\u001b[0m \u001b[0mdata\u001b[0m\u001b[0;34m\u001b[0m\u001b[0;34m\u001b[0m\u001b[0m\n",
      "\u001b[0;31mNameError\u001b[0m: name 'mds1' is not defined"
     ]
    }
   ],
   "source": [
    "data = pd.DataFrame(index=[ids, times], columns=['mds1', 'mds2'])\n",
    "data['mds1'] = mds1\n",
    "data['mds2'] = mds2\n",
    "data.index.set_names(['ID','TIME'], inplace=True)\n",
    "data"
   ]
  },
  {
   "cell_type": "markdown",
   "metadata": {},
   "source": [
    "## ADNI data"
   ]
  },
  {
   "cell_type": "code",
   "execution_count": 35,
   "metadata": {
    "tags": []
   },
   "outputs": [],
   "source": [
    "path = '../adni_study'\n",
    "data = '/data_adni'\n",
    "\n",
    "times = [time[0] for time in pd.read_csv(path+data+'/X.csv', header=None).values]\n",
    "#hip = [score[0] for score in pd.read_csv(path+data+'/Y_adas.csv', header=None).values]\n",
    "ven = [score[0] for score in pd.read_csv(path+data+'/Y_adas.csv', header=None).values]\n",
    "adas = [score[1] for score in pd.read_csv(path+data+'/Y_adas.csv', header=None).values]\n",
    "ids = [int(idx[0]) for idx in pd.read_csv(path+data+'/group.csv', header=None).values]"
   ]
  },
  {
   "cell_type": "code",
   "execution_count": 36,
   "metadata": {},
   "outputs": [
    {
     "data": {
      "text/html": [
       "<div>\n",
       "<style scoped>\n",
       "    .dataframe tbody tr th:only-of-type {\n",
       "        vertical-align: middle;\n",
       "    }\n",
       "\n",
       "    .dataframe tbody tr th {\n",
       "        vertical-align: top;\n",
       "    }\n",
       "\n",
       "    .dataframe thead th {\n",
       "        text-align: right;\n",
       "    }\n",
       "</style>\n",
       "<table border=\"1\" class=\"dataframe\">\n",
       "  <thead>\n",
       "    <tr style=\"text-align: right;\">\n",
       "      <th></th>\n",
       "      <th></th>\n",
       "      <th>ven</th>\n",
       "      <th>adas</th>\n",
       "    </tr>\n",
       "    <tr>\n",
       "      <th>ID</th>\n",
       "      <th>TIME</th>\n",
       "      <th></th>\n",
       "      <th></th>\n",
       "    </tr>\n",
       "  </thead>\n",
       "  <tbody>\n",
       "    <tr>\n",
       "      <th rowspan=\"5\" valign=\"top\">21</th>\n",
       "      <th>77.640</th>\n",
       "      <td>0.292681</td>\n",
       "      <td>0.096012</td>\n",
       "    </tr>\n",
       "    <tr>\n",
       "      <th>78.647</th>\n",
       "      <td>0.348860</td>\n",
       "      <td>0.162012</td>\n",
       "    </tr>\n",
       "    <tr>\n",
       "      <th>79.630</th>\n",
       "      <td>0.332652</td>\n",
       "      <td>0.036000</td>\n",
       "    </tr>\n",
       "    <tr>\n",
       "      <th>80.649</th>\n",
       "      <td>0.324140</td>\n",
       "      <td>0.167988</td>\n",
       "    </tr>\n",
       "    <tr>\n",
       "      <th>82.694</th>\n",
       "      <td>0.365129</td>\n",
       "      <td>0.162012</td>\n",
       "    </tr>\n",
       "    <tr>\n",
       "      <th>...</th>\n",
       "      <th>...</th>\n",
       "      <td>...</td>\n",
       "      <td>...</td>\n",
       "    </tr>\n",
       "    <tr>\n",
       "      <th rowspan=\"5\" valign=\"top\">5290</th>\n",
       "      <th>67.079</th>\n",
       "      <td>0.092811</td>\n",
       "      <td>0.203988</td>\n",
       "    </tr>\n",
       "    <tr>\n",
       "      <th>69.128</th>\n",
       "      <td>0.159048</td>\n",
       "      <td>0.138000</td>\n",
       "    </tr>\n",
       "    <tr>\n",
       "      <th>71.074</th>\n",
       "      <td>0.217518</td>\n",
       "      <td>0.126012</td>\n",
       "    </tr>\n",
       "    <tr>\n",
       "      <th>72.211</th>\n",
       "      <td>0.198040</td>\n",
       "      <td>0.111000</td>\n",
       "    </tr>\n",
       "    <tr>\n",
       "      <th>73.068</th>\n",
       "      <td>0.215177</td>\n",
       "      <td>0.060012</td>\n",
       "    </tr>\n",
       "  </tbody>\n",
       "</table>\n",
       "<p>2673 rows × 2 columns</p>\n",
       "</div>"
      ],
      "text/plain": [
       "                  ven      adas\n",
       "ID   TIME                      \n",
       "21   77.640  0.292681  0.096012\n",
       "     78.647  0.348860  0.162012\n",
       "     79.630  0.332652  0.036000\n",
       "     80.649  0.324140  0.167988\n",
       "     82.694  0.365129  0.162012\n",
       "...               ...       ...\n",
       "5290 67.079  0.092811  0.203988\n",
       "     69.128  0.159048  0.138000\n",
       "     71.074  0.217518  0.126012\n",
       "     72.211  0.198040  0.111000\n",
       "     73.068  0.215177  0.060012\n",
       "\n",
       "[2673 rows x 2 columns]"
      ]
     },
     "execution_count": 36,
     "metadata": {},
     "output_type": "execute_result"
    }
   ],
   "source": [
    "data = pd.DataFrame(index=[ids, times], columns=['ven', 'adas'])\n",
    "#data['hip'] = hip\n",
    "data['ven'] = ven\n",
    "data['adas'] = adas\n",
    "data.index.set_names(['ID','TIME'], inplace=True)\n",
    "data"
   ]
  },
  {
   "cell_type": "markdown",
   "metadata": {},
   "source": [
    "### Simulated data"
   ]
  },
  {
   "cell_type": "code",
   "execution_count": 142,
   "metadata": {
    "tags": []
   },
   "outputs": [],
   "source": [
    "path = '../simulated_study'\n",
    "data = '/simulated_data_metric_1'\n",
    "\n",
    "times = [time[0] for time in pd.read_csv(path+data+'/X.csv', header=None).values]\n",
    "logistic = [score[0] for score in pd.read_csv(path+data+'/Y.csv', header=None).values]\n",
    "sum_logistic = [score[1] for score in pd.read_csv(path+data+'/Y.csv', header=None).values]\n",
    "ids = [int(idx[0]) for idx in pd.read_csv(path+data+'/group.csv', header=None).values]"
   ]
  },
  {
   "cell_type": "code",
   "execution_count": 143,
   "metadata": {},
   "outputs": [
    {
     "data": {
      "text/html": [
       "<div>\n",
       "<style scoped>\n",
       "    .dataframe tbody tr th:only-of-type {\n",
       "        vertical-align: middle;\n",
       "    }\n",
       "\n",
       "    .dataframe tbody tr th {\n",
       "        vertical-align: top;\n",
       "    }\n",
       "\n",
       "    .dataframe thead th {\n",
       "        text-align: right;\n",
       "    }\n",
       "</style>\n",
       "<table border=\"1\" class=\"dataframe\">\n",
       "  <thead>\n",
       "    <tr style=\"text-align: right;\">\n",
       "      <th></th>\n",
       "      <th></th>\n",
       "      <th>logistic</th>\n",
       "      <th>sum_logistic</th>\n",
       "    </tr>\n",
       "    <tr>\n",
       "      <th>ID</th>\n",
       "      <th>TIME</th>\n",
       "      <th></th>\n",
       "      <th></th>\n",
       "    </tr>\n",
       "  </thead>\n",
       "  <tbody>\n",
       "    <tr>\n",
       "      <th rowspan=\"5\" valign=\"top\">0</th>\n",
       "      <th>69.76381</th>\n",
       "      <td>0.757825</td>\n",
       "      <td>0.449024</td>\n",
       "    </tr>\n",
       "    <tr>\n",
       "      <th>70.16381</th>\n",
       "      <td>0.762448</td>\n",
       "      <td>0.519819</td>\n",
       "    </tr>\n",
       "    <tr>\n",
       "      <th>70.56381</th>\n",
       "      <td>0.723426</td>\n",
       "      <td>0.501171</td>\n",
       "    </tr>\n",
       "    <tr>\n",
       "      <th>70.96381</th>\n",
       "      <td>0.763044</td>\n",
       "      <td>0.526731</td>\n",
       "    </tr>\n",
       "    <tr>\n",
       "      <th>71.36381</th>\n",
       "      <td>0.804602</td>\n",
       "      <td>0.495426</td>\n",
       "    </tr>\n",
       "    <tr>\n",
       "      <th>...</th>\n",
       "      <th>...</th>\n",
       "      <td>...</td>\n",
       "      <td>...</td>\n",
       "    </tr>\n",
       "    <tr>\n",
       "      <th rowspan=\"5\" valign=\"top\">299</th>\n",
       "      <th>70.44248</th>\n",
       "      <td>0.467512</td>\n",
       "      <td>0.922183</td>\n",
       "    </tr>\n",
       "    <tr>\n",
       "      <th>70.84248</th>\n",
       "      <td>0.520318</td>\n",
       "      <td>0.930383</td>\n",
       "    </tr>\n",
       "    <tr>\n",
       "      <th>71.24248</th>\n",
       "      <td>0.504897</td>\n",
       "      <td>0.910310</td>\n",
       "    </tr>\n",
       "    <tr>\n",
       "      <th>71.64248</th>\n",
       "      <td>0.511996</td>\n",
       "      <td>0.957397</td>\n",
       "    </tr>\n",
       "    <tr>\n",
       "      <th>72.04248</th>\n",
       "      <td>0.494403</td>\n",
       "      <td>0.943727</td>\n",
       "    </tr>\n",
       "  </tbody>\n",
       "</table>\n",
       "<p>4200 rows × 2 columns</p>\n",
       "</div>"
      ],
      "text/plain": [
       "              logistic  sum_logistic\n",
       "ID  TIME                            \n",
       "0   69.76381  0.757825      0.449024\n",
       "    70.16381  0.762448      0.519819\n",
       "    70.56381  0.723426      0.501171\n",
       "    70.96381  0.763044      0.526731\n",
       "    71.36381  0.804602      0.495426\n",
       "...                ...           ...\n",
       "299 70.44248  0.467512      0.922183\n",
       "    70.84248  0.520318      0.930383\n",
       "    71.24248  0.504897      0.910310\n",
       "    71.64248  0.511996      0.957397\n",
       "    72.04248  0.494403      0.943727\n",
       "\n",
       "[4200 rows x 2 columns]"
      ]
     },
     "execution_count": 143,
     "metadata": {},
     "output_type": "execute_result"
    }
   ],
   "source": [
    "data = pd.DataFrame(index=[ids, times], columns=['logistic', 'sum_logistic'])\n",
    "data['logistic'] = logistic\n",
    "data['sum_logistic'] = sum_logistic\n",
    "data.index.set_names(['ID','TIME'], inplace=True)\n",
    "data"
   ]
  },
  {
   "cell_type": "markdown",
   "metadata": {},
   "source": [
    "### Pruned data"
   ]
  },
  {
   "cell_type": "code",
   "execution_count": 20,
   "metadata": {},
   "outputs": [],
   "source": [
    "path = '../simulated_study'\n",
    "path_data = '/simulated_data_3'\n",
    "\n",
    "times = [time[0] for time in pd.read_csv(path+path_data+'/X.csv', header=None).values]\n",
    "logistic = [score[0] for score in pd.read_csv(path+path_data+'/Y_pruned.csv', header=None).values]\n",
    "sum_logistic = [score[1] for score in pd.read_csv(path+path_data+'/Y_pruned.csv', header=None).values]\n",
    "ids = [int(idx[0]) for idx in pd.read_csv(path+path_data+'/group.csv', header=None).values]"
   ]
  },
  {
   "cell_type": "code",
   "execution_count": 21,
   "metadata": {},
   "outputs": [
    {
     "data": {
      "text/html": [
       "<div>\n",
       "<style scoped>\n",
       "    .dataframe tbody tr th:only-of-type {\n",
       "        vertical-align: middle;\n",
       "    }\n",
       "\n",
       "    .dataframe tbody tr th {\n",
       "        vertical-align: top;\n",
       "    }\n",
       "\n",
       "    .dataframe thead th {\n",
       "        text-align: right;\n",
       "    }\n",
       "</style>\n",
       "<table border=\"1\" class=\"dataframe\">\n",
       "  <thead>\n",
       "    <tr style=\"text-align: right;\">\n",
       "      <th></th>\n",
       "      <th></th>\n",
       "      <th>logistic</th>\n",
       "      <th>sum_logistic</th>\n",
       "    </tr>\n",
       "    <tr>\n",
       "      <th>ID</th>\n",
       "      <th>TIME</th>\n",
       "      <th></th>\n",
       "      <th></th>\n",
       "    </tr>\n",
       "  </thead>\n",
       "  <tbody>\n",
       "    <tr>\n",
       "      <th rowspan=\"5\" valign=\"top\">0</th>\n",
       "      <th>56.340559</th>\n",
       "      <td>NaN</td>\n",
       "      <td>NaN</td>\n",
       "    </tr>\n",
       "    <tr>\n",
       "      <th>56.840559</th>\n",
       "      <td>NaN</td>\n",
       "      <td>NaN</td>\n",
       "    </tr>\n",
       "    <tr>\n",
       "      <th>57.340559</th>\n",
       "      <td>0.252891</td>\n",
       "      <td>0.440507</td>\n",
       "    </tr>\n",
       "    <tr>\n",
       "      <th>57.840559</th>\n",
       "      <td>NaN</td>\n",
       "      <td>NaN</td>\n",
       "    </tr>\n",
       "    <tr>\n",
       "      <th>58.340559</th>\n",
       "      <td>0.261381</td>\n",
       "      <td>0.477437</td>\n",
       "    </tr>\n",
       "    <tr>\n",
       "      <th>...</th>\n",
       "      <th>...</th>\n",
       "      <td>...</td>\n",
       "      <td>...</td>\n",
       "    </tr>\n",
       "    <tr>\n",
       "      <th rowspan=\"5\" valign=\"top\">199</th>\n",
       "      <th>72.828851</th>\n",
       "      <td>NaN</td>\n",
       "      <td>NaN</td>\n",
       "    </tr>\n",
       "    <tr>\n",
       "      <th>73.328851</th>\n",
       "      <td>0.694015</td>\n",
       "      <td>0.922010</td>\n",
       "    </tr>\n",
       "    <tr>\n",
       "      <th>73.828851</th>\n",
       "      <td>0.699477</td>\n",
       "      <td>0.911478</td>\n",
       "    </tr>\n",
       "    <tr>\n",
       "      <th>74.328851</th>\n",
       "      <td>0.686855</td>\n",
       "      <td>0.922275</td>\n",
       "    </tr>\n",
       "    <tr>\n",
       "      <th>74.828851</th>\n",
       "      <td>NaN</td>\n",
       "      <td>NaN</td>\n",
       "    </tr>\n",
       "  </tbody>\n",
       "</table>\n",
       "<p>2000 rows × 2 columns</p>\n",
       "</div>"
      ],
      "text/plain": [
       "               logistic  sum_logistic\n",
       "ID  TIME                             \n",
       "0   56.340559       NaN           NaN\n",
       "    56.840559       NaN           NaN\n",
       "    57.340559  0.252891      0.440507\n",
       "    57.840559       NaN           NaN\n",
       "    58.340559  0.261381      0.477437\n",
       "...                 ...           ...\n",
       "199 72.828851       NaN           NaN\n",
       "    73.328851  0.694015      0.922010\n",
       "    73.828851  0.699477      0.911478\n",
       "    74.328851  0.686855      0.922275\n",
       "    74.828851       NaN           NaN\n",
       "\n",
       "[2000 rows x 2 columns]"
      ]
     },
     "execution_count": 21,
     "metadata": {},
     "output_type": "execute_result"
    }
   ],
   "source": [
    "data_pruned = pd.DataFrame(index=[ids, times], columns=['logistic', 'sum_logistic'])\n",
    "data_pruned['logistic'] = logistic\n",
    "data_pruned['sum_logistic'] = sum_logistic\n",
    "data_pruned.index.set_names(['ID','TIME'], inplace=True)\n",
    "data_pruned"
   ]
  },
  {
   "cell_type": "markdown",
   "metadata": {},
   "source": [
    "## Leaspy model"
   ]
  },
  {
   "cell_type": "code",
   "execution_count": null,
   "metadata": {},
   "outputs": [
    {
     "name": "stdout",
     "output_type": "stream",
     "text": [
      "\n",
      "...overwrite logs folder...\n",
      "|##################################################|   6000/6000 iterations\n",
      "The standard deviation of the noise at the end of the calibration is:\n",
      "0.0250\n",
      "\n",
      "Calibration took: 9min 56s\n",
      "{'g': tensor([-0.1072, -1.6161]), 'v0': tensor([-4.9179, -5.0762]), 'betas': tensor([[-0.2764]]), 'tau_mean': tensor(72.0437), 'tau_std': tensor(23.0555), 'xi_mean': tensor(0.), 'xi_std': tensor(0.4817), 'sources_mean': tensor(0.), 'sources_std': tensor(1.), 'noise_std': tensor(0.0250)}\n",
      "\n",
      "The standard deviation of the noise at the end of the personalization is:\n",
      "0.0254\n",
      "\n",
      "Personalization mode_real took: 8s\n",
      "|##################################################|   6000/6000 iterations\n",
      "The standard deviation of the noise at the end of the calibration is:\n",
      "0.0249\n",
      "\n",
      "Calibration took: 9min 55s\n",
      "{'g': tensor([-0.1955, -1.8915]), 'v0': tensor([-5.0245, -5.2942]), 'betas': tensor([[0.2267]]), 'tau_mean': tensor(75.5652), 'tau_std': tensor(26.0809), 'xi_mean': tensor(0.), 'xi_std': tensor(0.5202), 'sources_mean': tensor(0.), 'sources_std': tensor(1.), 'noise_std': tensor(0.0249)}\n",
      "\n",
      "The standard deviation of the noise at the end of the personalization is:\n",
      "0.0248\n",
      "\n",
      "Personalization mode_real took: 8s\n",
      "|##################################################|   6000/6000 iterations\n",
      "The standard deviation of the noise at the end of the calibration is:\n",
      "0.0250\n",
      "\n",
      "Calibration took: 9min 57s\n",
      "{'g': tensor([-0.1777, -1.9716]), 'v0': tensor([-4.9817, -5.3403]), 'betas': tensor([[0.2117]]), 'tau_mean': tensor(74.6117), 'tau_std': tensor(23.9056), 'xi_mean': tensor(0.), 'xi_std': tensor(0.5007), 'sources_mean': tensor(0.), 'sources_std': tensor(1.), 'noise_std': tensor(0.0250)}\n",
      "\n",
      "The standard deviation of the noise at the end of the personalization is:\n",
      "0.0245\n",
      "\n",
      "Personalization mode_real took: 8s\n",
      "|########################--------------------------|   2880/6000 iterations"
     ]
    }
   ],
   "source": [
    "n_iter = 6000\n",
    "n_sources = 1\n",
    "\n",
    "settings = AlgorithmSettings('mcmc_saem', n_iter=n_iter, progress_bar=True)\n",
    "settings.set_logs(path='logs_small_model',  plot_periodicity=50,save_periodicity=10,\n",
    "                           console_print_periodicity=None,overwrite_logs_folder=True) \n",
    "# Fitting the model\n",
    "\n",
    "ip_list = []\n",
    "model_parameters_list = []\n",
    "\n",
    "for i in range(5):\n",
    "\n",
    "    leaspy = Leaspy('logistic')\n",
    "    leaspy.model.load_hyperparameters({'source_dimension': n_sources})\n",
    "\n",
    "    data_leaspy = Data.from_dataframe(data)\n",
    "\n",
    "    leaspy.fit(data_leaspy, settings)\n",
    "    print(leaspy.model.parameters)\n",
    "    settings_2 = AlgorithmSettings('mode_real', n_jobs=2, use_jacobian=True)\n",
    "\n",
    "    #data_leaspy = Data.from_dataframe(data_pruned)\n",
    "    individual_parameters = leaspy.personalize(data_leaspy, settings_2)\n",
    "    individual_parameters.to_dataframe().to_csv('joint_study_small_param.csv')\n",
    "    \n",
    "    model_parameters_list.append(leaspy.model.parameters)\n",
    "    ip_list.append(individual_parameters)"
   ]
  },
  {
   "cell_type": "code",
   "execution_count": 38,
   "metadata": {},
   "outputs": [
    {
     "name": "stdout",
     "output_type": "stream",
     "text": [
      "\n",
      "The standard deviation of the noise at the end of the personalization is:\n",
      "0.0775\n",
      "\n",
      "Personalization mode_real took: 9s\n"
     ]
    }
   ],
   "source": [
    "settings_2 = AlgorithmSettings('mode_real', n_jobs=2, use_jacobian=True)\n",
    "\n",
    "#data_leaspy = Data.from_dataframe(data_pruned)\n",
    "individual_parameters = leaspy.personalize(data_leaspy, settings_2)\n",
    "individual_parameters.to_dataframe().to_csv('joint_study_small_param.csv')"
   ]
  },
  {
   "cell_type": "code",
   "execution_count": 40,
   "metadata": {},
   "outputs": [],
   "source": [
    "data['TIME'] = data.index.get_level_values(1)\n",
    "data['ID'] = data.index.get_level_values(0)\n",
    "data = data.set_index('ID')"
   ]
  },
  {
   "cell_type": "code",
   "execution_count": 41,
   "metadata": {},
   "outputs": [
    {
     "data": {
      "text/html": [
       "<div>\n",
       "<style scoped>\n",
       "    .dataframe tbody tr th:only-of-type {\n",
       "        vertical-align: middle;\n",
       "    }\n",
       "\n",
       "    .dataframe tbody tr th {\n",
       "        vertical-align: top;\n",
       "    }\n",
       "\n",
       "    .dataframe thead th {\n",
       "        text-align: right;\n",
       "    }\n",
       "</style>\n",
       "<table border=\"1\" class=\"dataframe\">\n",
       "  <thead>\n",
       "    <tr style=\"text-align: right;\">\n",
       "      <th></th>\n",
       "      <th>tau</th>\n",
       "      <th>xi</th>\n",
       "      <th>sources</th>\n",
       "    </tr>\n",
       "    <tr>\n",
       "      <th>ID</th>\n",
       "      <th></th>\n",
       "      <th></th>\n",
       "      <th></th>\n",
       "    </tr>\n",
       "  </thead>\n",
       "  <tbody>\n",
       "    <tr>\n",
       "      <th>21</th>\n",
       "      <td>85.540245</td>\n",
       "      <td>0.667834</td>\n",
       "      <td>-0.011893</td>\n",
       "    </tr>\n",
       "    <tr>\n",
       "      <th>56</th>\n",
       "      <td>86.249893</td>\n",
       "      <td>0.232903</td>\n",
       "      <td>0.134936</td>\n",
       "    </tr>\n",
       "    <tr>\n",
       "      <th>69</th>\n",
       "      <td>64.635963</td>\n",
       "      <td>-0.248270</td>\n",
       "      <td>-0.099986</td>\n",
       "    </tr>\n",
       "    <tr>\n",
       "      <th>377</th>\n",
       "      <td>69.483185</td>\n",
       "      <td>-0.024864</td>\n",
       "      <td>0.201035</td>\n",
       "    </tr>\n",
       "    <tr>\n",
       "      <th>413</th>\n",
       "      <td>92.900345</td>\n",
       "      <td>-0.617540</td>\n",
       "      <td>-0.724558</td>\n",
       "    </tr>\n",
       "    <tr>\n",
       "      <th>...</th>\n",
       "      <td>...</td>\n",
       "      <td>...</td>\n",
       "      <td>...</td>\n",
       "    </tr>\n",
       "    <tr>\n",
       "      <th>5259</th>\n",
       "      <td>86.278564</td>\n",
       "      <td>-0.247130</td>\n",
       "      <td>0.912035</td>\n",
       "    </tr>\n",
       "    <tr>\n",
       "      <th>5265</th>\n",
       "      <td>74.444199</td>\n",
       "      <td>1.089990</td>\n",
       "      <td>-1.399066</td>\n",
       "    </tr>\n",
       "    <tr>\n",
       "      <th>5266</th>\n",
       "      <td>88.762451</td>\n",
       "      <td>1.084118</td>\n",
       "      <td>-3.810129</td>\n",
       "    </tr>\n",
       "    <tr>\n",
       "      <th>5289</th>\n",
       "      <td>73.313942</td>\n",
       "      <td>-2.421761</td>\n",
       "      <td>-0.534668</td>\n",
       "    </tr>\n",
       "    <tr>\n",
       "      <th>5290</th>\n",
       "      <td>81.074402</td>\n",
       "      <td>0.384875</td>\n",
       "      <td>0.831867</td>\n",
       "    </tr>\n",
       "  </tbody>\n",
       "</table>\n",
       "<p>430 rows × 3 columns</p>\n",
       "</div>"
      ],
      "text/plain": [
       "            tau        xi   sources\n",
       "ID                                 \n",
       "21    85.540245  0.667834 -0.011893\n",
       "56    86.249893  0.232903  0.134936\n",
       "69    64.635963 -0.248270 -0.099986\n",
       "377   69.483185 -0.024864  0.201035\n",
       "413   92.900345 -0.617540 -0.724558\n",
       "...         ...       ...       ...\n",
       "5259  86.278564 -0.247130  0.912035\n",
       "5265  74.444199  1.089990 -1.399066\n",
       "5266  88.762451  1.084118 -3.810129\n",
       "5289  73.313942 -2.421761 -0.534668\n",
       "5290  81.074402  0.384875  0.831867\n",
       "\n",
       "[430 rows x 3 columns]"
      ]
     },
     "execution_count": 41,
     "metadata": {},
     "output_type": "execute_result"
    }
   ],
   "source": [
    "individual_parameters = pd.read_csv('joint_study_small_param.csv').set_index('ID')\n",
    "individual_parameters.index = data.index.unique()\n",
    "individual_parameters"
   ]
  },
  {
   "cell_type": "code",
   "execution_count": 42,
   "metadata": {},
   "outputs": [
    {
     "data": {
      "text/html": [
       "<div>\n",
       "<style scoped>\n",
       "    .dataframe tbody tr th:only-of-type {\n",
       "        vertical-align: middle;\n",
       "    }\n",
       "\n",
       "    .dataframe tbody tr th {\n",
       "        vertical-align: top;\n",
       "    }\n",
       "\n",
       "    .dataframe thead th {\n",
       "        text-align: right;\n",
       "    }\n",
       "</style>\n",
       "<table border=\"1\" class=\"dataframe\">\n",
       "  <thead>\n",
       "    <tr style=\"text-align: right;\">\n",
       "      <th></th>\n",
       "      <th>tau</th>\n",
       "      <th>xi</th>\n",
       "      <th>sources</th>\n",
       "    </tr>\n",
       "  </thead>\n",
       "  <tbody>\n",
       "    <tr>\n",
       "      <th>count</th>\n",
       "      <td>430.000000</td>\n",
       "      <td>430.000000</td>\n",
       "      <td>430.000000</td>\n",
       "    </tr>\n",
       "    <tr>\n",
       "      <th>mean</th>\n",
       "      <td>70.379023</td>\n",
       "      <td>0.272492</td>\n",
       "      <td>0.012552</td>\n",
       "    </tr>\n",
       "    <tr>\n",
       "      <th>std</th>\n",
       "      <td>8.152872</td>\n",
       "      <td>0.796924</td>\n",
       "      <td>0.983078</td>\n",
       "    </tr>\n",
       "    <tr>\n",
       "      <th>min</th>\n",
       "      <td>41.641953</td>\n",
       "      <td>-2.815709</td>\n",
       "      <td>-3.810129</td>\n",
       "    </tr>\n",
       "    <tr>\n",
       "      <th>25%</th>\n",
       "      <td>64.785683</td>\n",
       "      <td>-0.218713</td>\n",
       "      <td>-0.591356</td>\n",
       "    </tr>\n",
       "    <tr>\n",
       "      <th>50%</th>\n",
       "      <td>70.865173</td>\n",
       "      <td>0.157234</td>\n",
       "      <td>-0.010968</td>\n",
       "    </tr>\n",
       "    <tr>\n",
       "      <th>75%</th>\n",
       "      <td>75.940458</td>\n",
       "      <td>0.695424</td>\n",
       "      <td>0.688254</td>\n",
       "    </tr>\n",
       "    <tr>\n",
       "      <th>max</th>\n",
       "      <td>92.900345</td>\n",
       "      <td>3.105773</td>\n",
       "      <td>2.936688</td>\n",
       "    </tr>\n",
       "  </tbody>\n",
       "</table>\n",
       "</div>"
      ],
      "text/plain": [
       "              tau          xi     sources\n",
       "count  430.000000  430.000000  430.000000\n",
       "mean    70.379023    0.272492    0.012552\n",
       "std      8.152872    0.796924    0.983078\n",
       "min     41.641953   -2.815709   -3.810129\n",
       "25%     64.785683   -0.218713   -0.591356\n",
       "50%     70.865173    0.157234   -0.010968\n",
       "75%     75.940458    0.695424    0.688254\n",
       "max     92.900345    3.105773    2.936688"
      ]
     },
     "execution_count": 42,
     "metadata": {},
     "output_type": "execute_result"
    }
   ],
   "source": [
    "individual_parameters.describe()"
   ]
  },
  {
   "cell_type": "code",
   "execution_count": 43,
   "metadata": {},
   "outputs": [
    {
     "data": {
      "text/html": [
       "<div>\n",
       "<style scoped>\n",
       "    .dataframe tbody tr th:only-of-type {\n",
       "        vertical-align: middle;\n",
       "    }\n",
       "\n",
       "    .dataframe tbody tr th {\n",
       "        vertical-align: top;\n",
       "    }\n",
       "\n",
       "    .dataframe thead th {\n",
       "        text-align: right;\n",
       "    }\n",
       "</style>\n",
       "<table border=\"1\" class=\"dataframe\">\n",
       "  <thead>\n",
       "    <tr style=\"text-align: right;\">\n",
       "      <th></th>\n",
       "      <th>TIME</th>\n",
       "      <th>adas</th>\n",
       "      <th>ven</th>\n",
       "    </tr>\n",
       "  </thead>\n",
       "  <tbody>\n",
       "    <tr>\n",
       "      <th>count</th>\n",
       "      <td>2673.0</td>\n",
       "      <td>2673.000000</td>\n",
       "      <td>2.673000e+03</td>\n",
       "    </tr>\n",
       "    <tr>\n",
       "      <th>mean</th>\n",
       "      <td>0.0</td>\n",
       "      <td>0.076003</td>\n",
       "      <td>2.042748e-02</td>\n",
       "    </tr>\n",
       "    <tr>\n",
       "      <th>std</th>\n",
       "      <td>0.0</td>\n",
       "      <td>0.073486</td>\n",
       "      <td>2.057296e-02</td>\n",
       "    </tr>\n",
       "    <tr>\n",
       "      <th>min</th>\n",
       "      <td>0.0</td>\n",
       "      <td>0.000012</td>\n",
       "      <td>3.797269e-07</td>\n",
       "    </tr>\n",
       "    <tr>\n",
       "      <th>25%</th>\n",
       "      <td>0.0</td>\n",
       "      <td>0.025923</td>\n",
       "      <td>7.133382e-03</td>\n",
       "    </tr>\n",
       "    <tr>\n",
       "      <th>50%</th>\n",
       "      <td>0.0</td>\n",
       "      <td>0.058059</td>\n",
       "      <td>1.500002e-02</td>\n",
       "    </tr>\n",
       "    <tr>\n",
       "      <th>75%</th>\n",
       "      <td>0.0</td>\n",
       "      <td>0.101579</td>\n",
       "      <td>2.727217e-02</td>\n",
       "    </tr>\n",
       "    <tr>\n",
       "      <th>max</th>\n",
       "      <td>0.0</td>\n",
       "      <td>0.761525</td>\n",
       "      <td>3.220688e-01</td>\n",
       "    </tr>\n",
       "  </tbody>\n",
       "</table>\n",
       "</div>"
      ],
      "text/plain": [
       "         TIME         adas           ven\n",
       "count  2673.0  2673.000000  2.673000e+03\n",
       "mean      0.0     0.076003  2.042748e-02\n",
       "std       0.0     0.073486  2.057296e-02\n",
       "min       0.0     0.000012  3.797269e-07\n",
       "25%       0.0     0.025923  7.133382e-03\n",
       "50%       0.0     0.058059  1.500002e-02\n",
       "75%       0.0     0.101579  2.727217e-02\n",
       "max       0.0     0.761525  3.220688e-01"
      ]
     },
     "execution_count": 43,
     "metadata": {},
     "output_type": "execute_result"
    }
   ],
   "source": [
    "from utils import predict_scores\n",
    "\n",
    "predicted_scores = predict_scores(data, individual_parameters, leaspy)\n",
    "abs(predicted_scores - data).describe()"
   ]
  },
  {
   "cell_type": "code",
   "execution_count": 44,
   "metadata": {},
   "outputs": [
    {
     "data": {
      "image/png": "[encoded data removed]",
      "text/plain": [
       "<Figure size 720x432 with 1 Axes>"
      ]
     },
     "metadata": {
      "needs_background": "light"
     },
     "output_type": "display_data"
    }
   ],
   "source": [
    "model = leaspy.model\n",
    "\n",
    "labels = model.features\n",
    "fig, ax = plt.subplots(figsize=(10, 6))\n",
    "\n",
    "cmap = matplotlib.cm.get_cmap('viridis_r')\n",
    "colors = [cmap(11*i) for i in range(121)]\n",
    "\n",
    "mean_time = model.parameters['tau_mean']\n",
    "std_time = max(model.parameters['tau_std'], 4)\n",
    "timepoints = np.linspace(mean_time - 2* std_time, mean_time + 2* std_time, 100)\n",
    "timepoints = torch.Tensor([timepoints])\n",
    "\n",
    "mean_trajectory = model.compute_mean_traj(timepoints).detach().numpy()\n",
    "\n",
    "for i in range(len(labels)):\n",
    "    ax.plot(timepoints[0, :].detach().numpy(), mean_trajectory[0, :, i], label=labels[i],\n",
    "            linewidth=4, alpha=0.9)  # , c=colors[i])\n",
    "    \n",
    "ax.legend()\n",
    "\n",
    "plt.ylim((0,1))\n",
    "plt.show()"
   ]
  },
  {
   "cell_type": "markdown",
   "metadata": {},
   "source": [
    "## Visualization of distribution of diagnosis vs (tau/xi)"
   ]
  },
  {
   "cell_type": "code",
   "execution_count": 45,
   "metadata": {},
   "outputs": [],
   "source": [
    "diag = pd.read_csv('~/ADNI-analysis/longitudinal_study/data/ADNI_cog_full.csv',usecols=['ID', 'session_id', 'TIME', 'diagnosis']).set_index('ID')"
   ]
  },
  {
   "cell_type": "code",
   "execution_count": 46,
   "metadata": {},
   "outputs": [],
   "source": [
    "sub_diag = pd.DataFrame(index=diag.index.unique(), columns=['diag', 'label'])\n",
    "\n",
    "for sub in sub_diag.index:\n",
    "    if type(diag.loc[sub]) == pd.core.series.Series:\n",
    "        sub_diag.drop(sub)\n",
    "    else:\n",
    "        if 'AD' in diag.loc[sub].values:\n",
    "            sub_diag.loc[sub]['diag'] = 'AD'\n",
    "            sub_diag.loc[sub]['label'] = 2\n",
    "        elif 'MCI' in diag.loc[sub].values:\n",
    "            sub_diag.loc[sub]['diag'] = 'MCI'\n",
    "            sub_diag.loc[sub]['label'] = 1\n",
    "        else:\n",
    "            sub_diag.loc[sub]['diag'] = 'CN'\n",
    "            sub_diag.loc[sub]['label'] = 0\n"
   ]
  },
  {
   "cell_type": "code",
   "execution_count": 47,
   "metadata": {},
   "outputs": [
    {
     "data": {
      "image/png": "[encoded data removed]",
      "text/plain": [
       "<Figure size 432x288 with 1 Axes>"
      ]
     },
     "metadata": {
      "needs_background": "light"
     },
     "output_type": "display_data"
    }
   ],
   "source": [
    "%matplotlib inline\n",
    "\n",
    "sub_diag = sub_diag.loc[individual_parameters.index]\n",
    "individual_parameters['diag'] = sub_diag['diag']\n",
    "individual_parameters['label'] = sub_diag['label']\n",
    "\n",
    "\n",
    "sns.scatterplot(data = individual_parameters,\n",
    "                x = 'tau', \n",
    "                y = 'xi', \n",
    "                hue = 'diag',\n",
    "                alpha=0.5, \n",
    "                palette = ['g', 'b', 'r'])\n",
    "plt.title('Leaspy')\n",
    "plt.show()"
   ]
  },
  {
   "cell_type": "code",
   "execution_count": 80,
   "metadata": {},
   "outputs": [
    {
     "data": {
      "image/png": "[encoded data removed]",
      "text/plain": [
       "<Figure size 432x432 with 4 Axes>"
      ]
     },
     "metadata": {},
     "output_type": "display_data"
    }
   ],
   "source": [
    "import matplotlib as mpl\n",
    "import matplotlib.pyplot as plt\n",
    "\n",
    "import numpy as np\n",
    "\n",
    "from sklearn import datasets\n",
    "from sklearn.mixture import GaussianMixture\n",
    "from sklearn.model_selection import train_test_split\n",
    "from sklearn.preprocessing import StandardScaler\n",
    "\n",
    "colors = ['green', 'blue', 'red']\n",
    "data = individual_parameters\n",
    "\n",
    "def make_ellipses(gmm, ax):\n",
    "    for n, color in enumerate(colors):\n",
    "        if gmm.covariance_type == 'full':\n",
    "            covariances = gmm.covariances_[n][:2, :2]\n",
    "        elif gmm.covariance_type == 'tied':\n",
    "            covariances = gmm.covariances_[:2, :2]\n",
    "        elif gmm.covariance_type == 'diag':\n",
    "            covariances = np.diag(gmm.covariances_[n][:2])\n",
    "        elif gmm.covariance_type == 'spherical':\n",
    "            covariances = np.eye(gmm.means_.shape[1]) * gmm.covariances_[n]\n",
    "        v, w = np.linalg.eigh(covariances)\n",
    "        u = w[0] / np.linalg.norm(w[0])\n",
    "        angle = np.arctan2(u[1], u[0])\n",
    "        angle = 180 * angle / np.pi  # convert to degrees\n",
    "        v = 2. * np.sqrt(2.) * np.sqrt(v)\n",
    "        ell = mpl.patches.Ellipse(gmm.means_[n, :2], v[0], v[1],\n",
    "                                  180 + angle, color=color)\n",
    "        ell.set_clip_box(ax.bbox)\n",
    "        ell.set_alpha(0.5)\n",
    "        ax.add_artist(ell)\n",
    "        ax.set_aspect('equal', 'datalim')\n",
    "\n",
    "\n",
    "X, y = StandardScaler().fit_transform(data[['tau', 'xi']]), data['label']\n",
    "\n",
    "\n",
    "X_train, X_test, y_train, y_test = train_test_split(X, y, test_size=0.2, random_state=2)\n",
    "\n",
    "\n",
    "n_classes = len(np.unique(y_train))\n",
    "\n",
    "# Try GMMs using different types of covariances.\n",
    "estimators = {cov_type: GaussianMixture(n_components=n_classes,\n",
    "              covariance_type=cov_type, max_iter=50, random_state=0)\n",
    "              for cov_type in ['spherical', 'diag', 'tied', 'full']}\n",
    "\n",
    "n_estimators = len(estimators)\n",
    "\n",
    "plt.figure(figsize=(3 * n_estimators // 2, 6))\n",
    "plt.subplots_adjust(bottom=.01, top=0.95, hspace=.15, wspace=.05,\n",
    "                    left=.01, right=.99)\n",
    "\n",
    "\n",
    "for index, (name, estimator) in enumerate(estimators.items()):\n",
    "    # Since we have class labels for the training data, we can\n",
    "    # initialize the GMM parameters in a supervised manner.\n",
    "    estimator.means_init = np.array([X_train[y_train == i].mean(axis=0)\n",
    "                                    for i in range(n_classes)])\n",
    "\n",
    "    # Train the other parameters using the EM algorithm.\n",
    "    estimator.fit(X_train)\n",
    "\n",
    "    h = plt.subplot(2, n_estimators // 2, index + 1)\n",
    "    make_ellipses(estimator, h)\n",
    "\n",
    "    for n, color in enumerate(colors):\n",
    "        data = X_train[y_train == n]\n",
    "        plt.scatter(data[:, 0], data[:, 1],  s=6, alpha=0.5, color=color,label=n)\n",
    "\n",
    "    y_train_pred = estimator.predict(X_train)\n",
    "    train_accuracy = np.mean(y_train_pred.ravel() == y_train.ravel()) * 100\n",
    "    plt.text(0.05, 0.9, 'Train accuracy: %.1f' % train_accuracy,\n",
    "             transform=h.transAxes)\n",
    "    \n",
    "    y_test_pred = estimator.predict(X_test)\n",
    "    test_accuracy = np.mean(y_test_pred.ravel() == y_test.ravel()) * 100\n",
    "    plt.text(0.05, 0.8, 'Test accuracy: %.1f' % test_accuracy,\n",
    "             transform=h.transAxes)\n",
    "\n",
    "\n",
    "    plt.xticks(())\n",
    "    plt.yticks(())\n",
    "    plt.title(name)\n",
    "\n",
    "plt.legend(scatterpoints=1, loc='lower right', prop=dict(size=12))\n",
    "\n",
    "\n",
    "plt.show()"
   ]
  },
  {
   "cell_type": "code",
   "execution_count": 131,
   "metadata": {},
   "outputs": [
    {
     "data": {
      "text/plain": [
       "array([ 0,  1,  2,  3,  4,  5,  6,  7,  8,  9, 10, 11, 12, 13, 14, 15, 16,\n",
       "       17, 18, 19, 20, 21, 22, 23, 24, 25, 26, 27, 28, 29, 30, 31, 32, 33,\n",
       "       34, 35, 36, 37, 38, 39, 40, 41, 42, 43, 44, 45, 46, 47, 48, 49, 50,\n",
       "       51, 52, 53, 54, 55, 56, 57, 58, 59, 60, 61, 62, 63, 64, 65, 66, 67,\n",
       "       68, 69, 70, 71, 72, 73, 74, 75, 76, 77, 78, 79, 80, 81, 82, 83, 84,\n",
       "       85])"
      ]
     },
     "execution_count": 131,
     "metadata": {},
     "output_type": "execute_result"
    }
   ],
   "source": [
    "test_index"
   ]
  },
  {
   "cell_type": "code",
   "execution_count": 130,
   "metadata": {},
   "outputs": [
    {
     "data": {
      "text/plain": [
       "array([ 86,  87,  88,  89,  90,  91,  92,  93,  94,  95,  96,  97,  98,\n",
       "        99, 100, 101, 102, 103, 104, 105, 106, 107, 108, 109, 110, 111,\n",
       "       112, 113, 114, 115, 116, 117, 118, 119, 120, 121, 122, 123, 124,\n",
       "       125, 126, 127, 128, 129, 130, 131, 132, 133, 134, 135, 136, 137,\n",
       "       138, 139, 140, 141, 142, 143, 144, 145, 146, 147, 148, 149, 150,\n",
       "       151, 152, 153, 154, 155, 156, 157, 158, 159, 160, 161, 162, 163,\n",
       "       164, 165, 166, 167, 168, 169, 170, 171, 172, 173, 174, 175, 176,\n",
       "       177, 178, 179, 180, 181, 182, 183, 184, 185, 186, 187, 188, 189,\n",
       "       190, 191, 192, 193, 194, 195, 196, 197, 198, 199, 200, 201, 202,\n",
       "       203, 204, 205, 206, 207, 208, 209, 210, 211, 212, 213, 214, 215,\n",
       "       216, 217, 218, 219, 220, 221, 222, 223, 224, 225, 226, 227, 228,\n",
       "       229, 230, 231, 232, 233, 234, 235, 236, 237, 238, 239, 240, 241,\n",
       "       242, 243, 244, 245, 246, 247, 248, 249, 250, 251, 252, 253, 254,\n",
       "       255, 256, 257, 258, 259, 260, 261, 262, 263, 264, 265, 266, 267,\n",
       "       268, 269, 270, 271, 272, 273, 274, 275, 276, 277, 278, 279, 280,\n",
       "       281, 282, 283, 284, 285, 286, 287, 288, 289, 290, 291, 292, 293,\n",
       "       294, 295, 296, 297, 298, 299, 300, 301, 302, 303, 304, 305, 306,\n",
       "       307, 308, 309, 310, 311, 312, 313, 314, 315, 316, 317, 318, 319,\n",
       "       320, 321, 322, 323, 324, 325, 326, 327, 328, 329, 330, 331, 332,\n",
       "       333, 334, 335, 336, 337, 338, 339, 340, 341, 342, 343, 344, 345,\n",
       "       346, 347, 348, 349, 350, 351, 352, 353, 354, 355, 356, 357, 358,\n",
       "       359, 360, 361, 362, 363, 364, 365, 366, 367, 368, 369, 370, 371,\n",
       "       372, 373, 374, 375, 376, 377, 378, 379, 380, 381, 382, 383, 384,\n",
       "       385, 386, 387, 388, 389, 390, 391, 392, 393, 394, 395, 396, 397,\n",
       "       398, 399, 400, 401, 402, 403, 404, 405, 406, 407, 408, 409, 410,\n",
       "       411, 412, 413, 414, 415, 416, 417, 418, 419, 420, 421, 422, 423,\n",
       "       424, 425, 426, 427, 428, 429])"
      ]
     },
     "execution_count": 130,
     "metadata": {},
     "output_type": "execute_result"
    }
   ],
   "source": [
    "train_index"
   ]
  },
  {
   "cell_type": "code",
   "execution_count": 136,
   "metadata": {},
   "outputs": [
    {
     "data": {
      "text/plain": [
       "ID\n",
       "21      0\n",
       "56      1\n",
       "69      1\n",
       "377     1\n",
       "413     0\n",
       "       ..\n",
       "5259    0\n",
       "5265    0\n",
       "5266    0\n",
       "5289    0\n",
       "5290    0\n",
       "Name: label, Length: 430, dtype: object"
      ]
     },
     "execution_count": 136,
     "metadata": {},
     "output_type": "execute_result"
    }
   ],
   "source": [
    "y"
   ]
  },
  {
   "cell_type": "code",
   "execution_count": 141,
   "metadata": {},
   "outputs": [
    {
     "name": "stdout",
     "output_type": "stream",
     "text": [
      "KFold(n_splits=5, random_state=None, shuffle=True)\n",
      "57.093023255813954 55.581395348837205\n"
     ]
    }
   ],
   "source": [
    "from sklearn.model_selection import KFold\n",
    "\n",
    "train_total, test_total = 0, 0\n",
    "\n",
    "kf = KFold(n_splits=5, shuffle=True)\n",
    "kf.get_n_splits(X)\n",
    "print(kf)\n",
    "\n",
    "y = np.array(y)\n",
    "\n",
    "for train_index, test_index in kf.split(X):\n",
    "\n",
    "    X_train, X_test, y_train, y_test = X[train_index], X[test_index], y[train_index], y[test_index]\n",
    "\n",
    "    n_classes = len(np.unique(y_train))\n",
    "\n",
    "    estimator = GaussianMixture(n_components=n_classes, covariance_type='full', max_iter=100, random_state=0)\n",
    "    estimator.means_init = np.array([X_train[y_train == i].mean(axis=0)\n",
    "                                    for i in range(n_classes)])\n",
    "\n",
    "    # Train the other parameters using the EM algorithm.\n",
    "    estimator.fit(X_train)\n",
    "\n",
    "    y_train_pred = estimator.predict(X_train)\n",
    "    train_accuracy = np.mean(y_train_pred.ravel() == y_train.ravel()) * 100\n",
    "    train_total += train_accuracy\n",
    "\n",
    "    y_test_pred = estimator.predict(X_test)\n",
    "    test_accuracy = np.mean(y_test_pred.ravel() == y_test.ravel()) * 100\n",
    "    test_total += test_accuracy\n",
    "\n",
    "print(train_total/5, test_total/5)"
   ]
  },
  {
   "cell_type": "code",
   "execution_count": 139,
   "metadata": {},
   "outputs": [
    {
     "data": {
      "image/png": "[encoded data removed]",
      "text/plain": [
       "<Figure size 432x432 with 1 Axes>"
      ]
     },
     "metadata": {},
     "output_type": "display_data"
    }
   ],
   "source": [
    "estimator = GaussianMixture(n_components=n_classes, covariance_type='full', max_iter=80, random_state=0)\n",
    "\n",
    "estimator.means_init = np.array([X_train[y_train == i].mean(axis=0)\n",
    "                                    for i in range(n_classes)])\n",
    "\n",
    "# Train the other parameters using the EM algorithm.\n",
    "estimator.fit(X_train)\n",
    "\n",
    "plt.figure(figsize=(3 * n_estimators // 2, 6))\n",
    "h = plt.subplot(111)\n",
    "make_ellipses(estimator, h)\n",
    "\n",
    "for n, color in enumerate(colors):\n",
    "    data = X_train[y_train == n]\n",
    "    plt.scatter(data[:, 0], data[:, 1], s=6, alpha=0.5, color=color,label=n)\n",
    "\n",
    "y_train_pred = estimator.predict(X_train)\n",
    "train_accuracy = np.mean(y_train_pred.ravel() == y_train.ravel()) * 100\n",
    "plt.text(0.05, 0.9, 'Train accuracy: %.1f' % train_accuracy,\n",
    "         transform=h.transAxes)\n",
    "\n",
    "y_test_pred = estimator.predict(X_test)\n",
    "test_accuracy = np.mean(y_test_pred.ravel() == y_test.ravel()) * 100\n",
    "plt.text(0.05, 0.8, 'Test accuracy: %.1f' % test_accuracy,\n",
    "         transform=h.transAxes)\n",
    "\n",
    "\n",
    "plt.xticks(())\n",
    "plt.yticks(())\n",
    "\n",
    "plt.legend(scatterpoints=1, loc='lower right', prop=dict(size=12))\n",
    "\n",
    "\n",
    "plt.show()"
   ]
  },
  {
   "cell_type": "code",
   "execution_count": 117,
   "metadata": {},
   "outputs": [],
   "source": [
    "y_test = y_test.astype(int)"
   ]
  },
  {
   "cell_type": "code",
   "execution_count": 118,
   "metadata": {},
   "outputs": [],
   "source": [
    "y_test_pred = y_test_pred.astype(int)"
   ]
  },
  {
   "cell_type": "code",
   "execution_count": null,
   "metadata": {},
   "outputs": [],
   "source": []
  },
  {
   "cell_type": "code",
   "execution_count": 123,
   "metadata": {},
   "outputs": [
    {
     "data": {
      "text/plain": [
       "<AxesSubplot:>"
      ]
     },
     "execution_count": 123,
     "metadata": {},
     "output_type": "execute_result"
    },
    {
     "data": {
      "image/png": "[encoded data removed]",
      "text/plain": [
       "<Figure size 432x288 with 2 Axes>"
      ]
     },
     "metadata": {
      "needs_background": "light"
     },
     "output_type": "display_data"
    }
   ],
   "source": [
    "from sklearn.metrics import confusion_matrix\n",
    "\n",
    "cm = confusion_matrix(y_test.ravel(), y_test_pred.ravel(), labels=[0, 1, 2])  \n",
    "sns.heatmap(cm, cmap=plt.cm.Blues)"
   ]
  },
  {
   "cell_type": "code",
   "execution_count": 49,
   "metadata": {},
   "outputs": [
    {
     "data": {
      "text/plain": [
       "<AxesSubplot:xlabel='tau', ylabel='xi'>"
      ]
     },
     "execution_count": 49,
     "metadata": {},
     "output_type": "execute_result"
    },
    {
     "data": {
      "image/png": "[encoded data removed]",
      "text/plain": [
       "<Figure size 432x288 with 1 Axes>"
      ]
     },
     "metadata": {
      "needs_background": "light"
     },
     "output_type": "display_data"
    }
   ],
   "source": [
    "sns.kdeplot(data=individual_parameters, x='tau', y='xi', hue='diag', fill=True, alpha=0.2)"
   ]
  },
  {
   "cell_type": "code",
   "execution_count": 13,
   "metadata": {},
   "outputs": [
    {
     "data": {
      "text/html": [
       "<div>\n",
       "<style scoped>\n",
       "    .dataframe tbody tr th:only-of-type {\n",
       "        vertical-align: middle;\n",
       "    }\n",
       "\n",
       "    .dataframe tbody tr th {\n",
       "        vertical-align: top;\n",
       "    }\n",
       "\n",
       "    .dataframe thead th {\n",
       "        text-align: right;\n",
       "    }\n",
       "</style>\n",
       "<table border=\"1\" class=\"dataframe\">\n",
       "  <thead>\n",
       "    <tr style=\"text-align: right;\">\n",
       "      <th></th>\n",
       "      <th>xi</th>\n",
       "      <th>tau</th>\n",
       "      <th>source</th>\n",
       "    </tr>\n",
       "    <tr>\n",
       "      <th>ID</th>\n",
       "      <th></th>\n",
       "      <th></th>\n",
       "      <th></th>\n",
       "    </tr>\n",
       "  </thead>\n",
       "  <tbody>\n",
       "    <tr>\n",
       "      <th>0</th>\n",
       "      <td>-0.042195</td>\n",
       "      <td>65.204252</td>\n",
       "      <td>14.855125</td>\n",
       "    </tr>\n",
       "    <tr>\n",
       "      <th>1</th>\n",
       "      <td>0.277844</td>\n",
       "      <td>72.614263</td>\n",
       "      <td>-4.664902</td>\n",
       "    </tr>\n",
       "    <tr>\n",
       "      <th>2</th>\n",
       "      <td>-0.448266</td>\n",
       "      <td>62.417224</td>\n",
       "      <td>11.654640</td>\n",
       "    </tr>\n",
       "    <tr>\n",
       "      <th>3</th>\n",
       "      <td>0.687274</td>\n",
       "      <td>78.584107</td>\n",
       "      <td>10.606578</td>\n",
       "    </tr>\n",
       "    <tr>\n",
       "      <th>4</th>\n",
       "      <td>0.474100</td>\n",
       "      <td>88.115856</td>\n",
       "      <td>-4.351091</td>\n",
       "    </tr>\n",
       "    <tr>\n",
       "      <th>...</th>\n",
       "      <td>...</td>\n",
       "      <td>...</td>\n",
       "      <td>...</td>\n",
       "    </tr>\n",
       "    <tr>\n",
       "      <th>295</th>\n",
       "      <td>-0.266133</td>\n",
       "      <td>89.821899</td>\n",
       "      <td>-14.452402</td>\n",
       "    </tr>\n",
       "    <tr>\n",
       "      <th>296</th>\n",
       "      <td>0.578161</td>\n",
       "      <td>85.970123</td>\n",
       "      <td>-4.993718</td>\n",
       "    </tr>\n",
       "    <tr>\n",
       "      <th>297</th>\n",
       "      <td>0.419483</td>\n",
       "      <td>77.756186</td>\n",
       "      <td>-1.596787</td>\n",
       "    </tr>\n",
       "    <tr>\n",
       "      <th>298</th>\n",
       "      <td>0.234807</td>\n",
       "      <td>80.559906</td>\n",
       "      <td>-4.879351</td>\n",
       "    </tr>\n",
       "    <tr>\n",
       "      <th>299</th>\n",
       "      <td>0.325498</td>\n",
       "      <td>63.801871</td>\n",
       "      <td>4.697659</td>\n",
       "    </tr>\n",
       "  </tbody>\n",
       "</table>\n",
       "<p>300 rows × 3 columns</p>\n",
       "</div>"
      ],
      "text/plain": [
       "           xi        tau     source\n",
       "ID                                 \n",
       "0   -0.042195  65.204252  14.855125\n",
       "1    0.277844  72.614263  -4.664902\n",
       "2   -0.448266  62.417224  11.654640\n",
       "3    0.687274  78.584107  10.606578\n",
       "4    0.474100  88.115856  -4.351091\n",
       "..        ...        ...        ...\n",
       "295 -0.266133  89.821899 -14.452402\n",
       "296  0.578161  85.970123  -4.993718\n",
       "297  0.419483  77.756186  -1.596787\n",
       "298  0.234807  80.559906  -4.879351\n",
       "299  0.325498  63.801871   4.697659\n",
       "\n",
       "[300 rows x 3 columns]"
      ]
     },
     "execution_count": 13,
     "metadata": {},
     "output_type": "execute_result"
    }
   ],
   "source": [
    "true_individual_parameters = pd.read_csv(path+'/simulated_data_1/true_individual_parameters.csv').set_index('Unnamed: 0')\n",
    "true_individual_parameters.index.name = 'ID'\n",
    "true_individual_parameters"
   ]
  },
  {
   "cell_type": "code",
   "execution_count": 29,
   "metadata": {},
   "outputs": [
    {
     "data": {
      "text/html": [
       "<div>\n",
       "<style scoped>\n",
       "    .dataframe tbody tr th:only-of-type {\n",
       "        vertical-align: middle;\n",
       "    }\n",
       "\n",
       "    .dataframe tbody tr th {\n",
       "        vertical-align: top;\n",
       "    }\n",
       "\n",
       "    .dataframe thead th {\n",
       "        text-align: right;\n",
       "    }\n",
       "</style>\n",
       "<table border=\"1\" class=\"dataframe\">\n",
       "  <thead>\n",
       "    <tr style=\"text-align: right;\">\n",
       "      <th></th>\n",
       "      <th>source</th>\n",
       "      <th>sources</th>\n",
       "      <th>tau</th>\n",
       "      <th>xi</th>\n",
       "    </tr>\n",
       "  </thead>\n",
       "  <tbody>\n",
       "    <tr>\n",
       "      <th>count</th>\n",
       "      <td>0.0</td>\n",
       "      <td>0.0</td>\n",
       "      <td>300.000000</td>\n",
       "      <td>300.000000</td>\n",
       "    </tr>\n",
       "    <tr>\n",
       "      <th>mean</th>\n",
       "      <td>NaN</td>\n",
       "      <td>NaN</td>\n",
       "      <td>16.290012</td>\n",
       "      <td>0.503500</td>\n",
       "    </tr>\n",
       "    <tr>\n",
       "      <th>std</th>\n",
       "      <td>NaN</td>\n",
       "      <td>NaN</td>\n",
       "      <td>11.039638</td>\n",
       "      <td>0.390073</td>\n",
       "    </tr>\n",
       "    <tr>\n",
       "      <th>min</th>\n",
       "      <td>NaN</td>\n",
       "      <td>NaN</td>\n",
       "      <td>0.214407</td>\n",
       "      <td>0.000187</td>\n",
       "    </tr>\n",
       "    <tr>\n",
       "      <th>25%</th>\n",
       "      <td>NaN</td>\n",
       "      <td>NaN</td>\n",
       "      <td>7.583963</td>\n",
       "      <td>0.216354</td>\n",
       "    </tr>\n",
       "    <tr>\n",
       "      <th>50%</th>\n",
       "      <td>NaN</td>\n",
       "      <td>NaN</td>\n",
       "      <td>14.494875</td>\n",
       "      <td>0.396142</td>\n",
       "    </tr>\n",
       "    <tr>\n",
       "      <th>75%</th>\n",
       "      <td>NaN</td>\n",
       "      <td>NaN</td>\n",
       "      <td>22.746722</td>\n",
       "      <td>0.751932</td>\n",
       "    </tr>\n",
       "    <tr>\n",
       "      <th>max</th>\n",
       "      <td>NaN</td>\n",
       "      <td>NaN</td>\n",
       "      <td>52.247168</td>\n",
       "      <td>1.787517</td>\n",
       "    </tr>\n",
       "  </tbody>\n",
       "</table>\n",
       "</div>"
      ],
      "text/plain": [
       "       source  sources         tau          xi\n",
       "count     0.0      0.0  300.000000  300.000000\n",
       "mean      NaN      NaN   16.290012    0.503500\n",
       "std       NaN      NaN   11.039638    0.390073\n",
       "min       NaN      NaN    0.214407    0.000187\n",
       "25%       NaN      NaN    7.583963    0.216354\n",
       "50%       NaN      NaN   14.494875    0.396142\n",
       "75%       NaN      NaN   22.746722    0.751932\n",
       "max       NaN      NaN   52.247168    1.787517"
      ]
     },
     "execution_count": 29,
     "metadata": {},
     "output_type": "execute_result"
    }
   ],
   "source": [
    "abs(true_individual_parameters - individual_parameters).describe()"
   ]
  }
 ],
 "metadata": {
  "kernelspec": {
   "display_name": "leaspy",
   "language": "python",
   "name": "leaspy"
  },
  "language_info": {
   "codemirror_mode": {
    "name": "ipython",
    "version": 3
   },
   "file_extension": ".py",
   "mimetype": "text/x-python",
   "name": "python",
   "nbconvert_exporter": "python",
   "pygments_lexer": "ipython3",
   "version": "3.6.13"
  }
 },
 "nbformat": 4,
 "nbformat_minor": 4
}
